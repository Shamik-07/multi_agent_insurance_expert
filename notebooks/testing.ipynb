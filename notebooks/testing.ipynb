{
 "cells": [
  {
   "cell_type": "code",
   "execution_count": 1,
   "id": "950e472c",
   "metadata": {},
   "outputs": [],
   "source": [
    "%load_ext autoreload\n",
    "%autoreload 2\n"
   ]
  },
  {
   "cell_type": "code",
   "execution_count": 2,
   "id": "80a43c4a-e36e-438e-a7ef-d6b6ed1e88e2",
   "metadata": {
    "execution": {
     "iopub.execute_input": "2025-05-25T11:36:58.593607Z",
     "iopub.status.busy": "2025-05-25T11:36:58.592363Z",
     "iopub.status.idle": "2025-05-25T11:36:59.409700Z",
     "shell.execute_reply": "2025-05-25T11:36:59.408793Z",
     "shell.execute_reply.started": "2025-05-25T11:36:58.593527Z"
    }
   },
   "outputs": [],
   "source": [
    "from dotenv import load_dotenv, find_dotenv\n",
    "from smolagents import (\n",
    "    CodeAgent,\n",
    "    DuckDuckGoSearchTool,\n",
    "    InferenceClientModel,\n",
    "    VisitWebpageTool,\n",
    "    WikipediaSearchTool,\n",
    "    FinalAnswerTool,\n",
    "    Tool,\n",
    "    ToolCallingAgent\n",
    ")\n",
    "import sys\n",
    "from pyprojroot import find_root, has_file\n",
    "_ = load_dotenv(find_dotenv())"
   ]
  },
  {
   "cell_type": "code",
   "execution_count": 3,
   "id": "7476ea0c",
   "metadata": {},
   "outputs": [],
   "source": [
    "project_root_dir = find_root(has_file(\"README.md\")).as_posix()\n",
    "sys.path.extend([project_root_dir])\n"
   ]
  },
  {
   "cell_type": "code",
   "execution_count": 4,
   "id": "e3e6e12f",
   "metadata": {},
   "outputs": [],
   "source": [
    "from huggingface_hub import model_info, InferenceClient"
   ]
  },
  {
   "cell_type": "code",
   "execution_count": 5,
   "id": "85cb1982",
   "metadata": {},
   "outputs": [],
   "source": [
    "from PIL import Image\n",
    "from io import BytesIO\n",
    "import base64\n",
    "from pathlib import Path"
   ]
  },
  {
   "cell_type": "code",
   "execution_count": 6,
   "id": "c22296de",
   "metadata": {},
   "outputs": [],
   "source": [
    "client = InferenceClient(\n",
    "    provider=\"hyperbolic\",\n",
    "    bill_to=\"VitalNest\",\n",
    ")\n"
   ]
  },
  {
   "cell_type": "code",
   "execution_count": 2,
   "id": "7cec2069",
   "metadata": {},
   "outputs": [],
   "source": [
    "all_inference_models = !curl -s https://huggingface.co/api/models | jq \".[].id\""
   ]
  },
  {
   "cell_type": "code",
   "execution_count": null,
   "id": "6e1c9797",
   "metadata": {},
   "outputs": [
    {
     "data": {
      "text/plain": [
       "'warm'"
      ]
     },
     "execution_count": 29,
     "metadata": {},
     "output_type": "execute_result"
    }
   ],
   "source": [
    "info = model_info(\"google/gemma-3-27b-it\", expand=\"inference\")\n",
    "info.inference\n"
   ]
  },
  {
   "cell_type": "code",
   "execution_count": 22,
   "id": "2dc107e2",
   "metadata": {},
   "outputs": [],
   "source": [
    "vlm_model = InferenceClientModel(model_id=\"Qwen/Qwen2.5-VL-72B-Instruct\",bill_to=\"VitalNest\",\n",
    "                                 timeout=300,temperature=.1, max_tokens=10000)"
   ]
  },
  {
   "cell_type": "code",
   "execution_count": null,
   "id": "085aa7d4",
   "metadata": {},
   "outputs": [],
   "source": [
    "# def encode_image_to_base64(image_path):\n",
    "#     \"\"\"\n",
    "#     Encodes an image file to a base64 string.\n",
    "\n",
    "#     Args:\n",
    "#         image_path (str): Path to the image file.\n",
    "\n",
    "#     Returns:\n",
    "#         str: Base64 encoded image string.\n",
    "#     \"\"\"\n",
    "#     \"\"\"Encodes a PIL image to a base64 string.\"\"\"\n",
    "#     image = Image.open(image_path)\n",
    "#     buffered = BytesIO()\n",
    "#     image.save(buffered, format=\"PNG\")\n",
    "#     return base64.b64encode(buffered.getvalue()).decode(\"utf-8\")\n"
   ]
  },
  {
   "cell_type": "code",
   "execution_count": null,
   "id": "4f5b9b6d",
   "metadata": {},
   "outputs": [],
   "source": [
    "# # MAXIMUM of 4 images can be sent\n",
    "# img_paths = [\n",
    "#     Path(\n",
    "#         \"../src/pages/optima-restore-revision.pdf/optima-restore-revision.pdf_page_42.png\"\n",
    "#     ),\n",
    "#     Path(\n",
    "#         \"../src/pages/optima-restore-revision.pdf/optima-restore-revision.pdf_page_12.png\"\n",
    "#     ),\n",
    "#     Path(\n",
    "#         \"../src/pages/optima-restore-revision.pdf/optima-restore-revision.pdf_page_1.png\"\n",
    "#     ),\n",
    "#     # Path(\n",
    "#     #     \"../src/pages/optima-restore-revision.pdf/optima-restore-revision.pdf_page_43.png\"\n",
    "#     # ),\n",
    "#     # Path(\n",
    "#     #     \"../src/pages/optima-restore-revision.pdf/optima-restore-revision.pdf_page_44.png\"\n",
    "#     # ),\n",
    "# ]"
   ]
  },
  {
   "cell_type": "code",
   "execution_count": null,
   "id": "73a61942",
   "metadata": {},
   "outputs": [],
   "source": [
    "# # grouped_images = [Image.open(fp=pth) for pth in img_paths]\n",
    "# grouped_images = [encode_image_to_base64(pth) for pth in img_paths]"
   ]
  },
  {
   "cell_type": "code",
   "execution_count": null,
   "id": "0fa8f187",
   "metadata": {},
   "outputs": [],
   "source": [
    "# text_query = \"\"\"what critical illnesses are covered under optima restore?\n",
    "# If the answer isn't in these documents, say you don't know.\"\"\"\n",
    "# chat_template = [\n",
    "#     {\n",
    "# \"role\":\"system\", \"content\":\"\"\"You find answers from the relevant documents. Answer only \n",
    "# from these documents. If answer isn't available return 'Question cannot be answered based\n",
    "# on the documents provided.' \"\"\"\n",
    "#     },\n",
    "#     {\n",
    "#         \"role\": \"user\",\n",
    "#         \"content\": [\n",
    "#             {\n",
    "#                 \"type\": \"image_url\",\n",
    "#                 \"image_url\": {\"url\": f\"data:image/jpeg;base64,{image}\"},\n",
    "#             }\n",
    "#             for image in grouped_images\n",
    "#         ]\n",
    "#         + [{\"type\": \"text\", \"text\": text_query}],\n",
    "#     }\n",
    "# ]\n"
   ]
  },
  {
   "cell_type": "code",
   "execution_count": null,
   "id": "7e6d672b",
   "metadata": {},
   "outputs": [
    {
     "name": "stdout",
     "output_type": "stream",
     "text": [
      "The critical illnesses covered under Optima Restore include Cancer, Open Chest CABG, First Heart Attack, Kidney Failure, Major Organ/Bone Marrow Transplant, Multiple Sclerosis, Permanent Paralysis of Limbs, and Stroke.\n"
     ]
    }
   ],
   "source": [
    "# print(vlm_model.generate(messages=chat_template).content)"
   ]
  },
  {
   "cell_type": "code",
   "execution_count": null,
   "id": "4f0477f4",
   "metadata": {},
   "outputs": [
    {
     "name": "stdout",
     "output_type": "stream",
     "text": [
      "The critical illnesses covered under Optima Restore include Cancer, Open Chest CABG, First Heart Attack, Kidney Failure, Major Organ/Bone Marrow Transplant, Multiple Sclerosis, Permanent Paralysis of Limbs, and Stroke.\n"
     ]
    }
   ],
   "source": [
    "# completion = client.chat.completions.create(\n",
    "#     model=\"Qwen/Qwen2.5-VL-72B-Instruct\",\n",
    "#     messages=chat_template,\n",
    "#     temperature=.1,\n",
    "#     max_tokens=10_000\n",
    "# )\n",
    "\n",
    "# print(completion.choices[0].message.content)\n",
    "\n",
    "# # completion = client.chat.completions.create(\n",
    "# #     model=\"Qwen/Qwen2.5-VL-72B-Instruct\",\n",
    "# #     messages=[\n",
    "# #         {\n",
    "# #             \"role\": \"user\",\n",
    "# #             \"content\": [\n",
    "# #                 {\"type\": \"text\", \"text\": \"Describe the images in one sentence.\"},\n",
    "# #                 {\n",
    "# #                     \"type\": \"image_url\",\n",
    "# #                     \"image_url\": {\n",
    "# #                         \"url\": \"https://cdn.britannica.com/61/93061-050-99147DCE/Statue-of-Liberty-Island-New-York-Bay.jpg\"\n",
    "# #                     },\n",
    "# #                 },\n",
    "# #                 {\n",
    "# #                     \"type\": \"image_url\",\n",
    "# #                     \"image_url\": {\n",
    "# #                         \"url\": \"https://upload.wikimedia.org/wikipedia/commons/3/3d/Nicu%C8%99or_Dan_%288_mai_2025%29.jpg\"\n",
    "# #                     },\n",
    "# #                 },\n",
    "# #             ],\n",
    "# #         }\n",
    "# #     ],\n",
    "# # )\n",
    "\n",
    "# # print(completion.choices[0].message)\n"
   ]
  },
  {
   "cell_type": "code",
   "execution_count": null,
   "id": "59c5b826",
   "metadata": {},
   "outputs": [],
   "source": []
  },
  {
   "cell_type": "code",
   "execution_count": null,
   "id": "537ce44d",
   "metadata": {},
   "outputs": [],
   "source": []
  },
  {
   "cell_type": "code",
   "execution_count": 14,
   "id": "3a5c91b2-c3dc-4a38-8d12-23ebde2324d1",
   "metadata": {
    "execution": {
     "iopub.execute_input": "2025-05-25T11:36:59.411663Z",
     "iopub.status.busy": "2025-05-25T11:36:59.410797Z",
     "iopub.status.idle": "2025-05-25T11:36:59.419560Z",
     "shell.execute_reply": "2025-05-25T11:36:59.418230Z",
     "shell.execute_reply.started": "2025-05-25T11:36:59.411622Z"
    }
   },
   "outputs": [
    {
     "name": "stderr",
     "output_type": "stream",
     "text": [
      "INFO:wikipediaapi:Wikipedia: language=en, user_agent: WikiAssistant (merlin@example.com) (Wikipedia-API/0.8.1; https://github.com/martin-majlis/Wikipedia-API/), extract_format=1\n"
     ]
    }
   ],
   "source": [
    "class InsuranceInfoRetriever(Tool):\n",
    "    name = \"InsuranceInfoRetriever\"\n",
    "    description = \"Retrieves information from insurance documents.\"\n",
    "    inputs = {\n",
    "        \"query\": {\n",
    "            \"type\": \"string\",\n",
    "            \"description\": \"The query to search for.\"\n",
    "        },\n",
    "    }\n",
    "    output_type = \"string\"\n",
    "\n",
    "    def forward(self, query: str) -> str:\n",
    "        client = InferenceClient(\n",
    "            provider=\"hyperbolic\",\n",
    "            bill_to=\"VitalNest\",\n",
    "        )\n",
    "        results = rag_app.search_documents(query)\n",
    "        img_paths = [Path(res[0]) for res in results]\n",
    "\n",
    "        grouped_images = [rag_app.encode_image_to_base64(pth) for pth in img_paths]\n",
    "        chat_template = [\n",
    "            {\n",
    "        \"role\":\"system\", \"content\":\"\"\"You find answers from the relevant documents. Answer only \n",
    "        from these documents. If answer isn't available return 'Question cannot be answered based\n",
    "        on the documents provided.' \"\"\"\n",
    "            },\n",
    "            {\n",
    "                \"role\": \"user\",\n",
    "                \"content\": [\n",
    "                    {\n",
    "                        \"type\": \"image_url\",\n",
    "                        \"image_url\": {\"url\": f\"data:image/jpeg;base64,{image}\"},\n",
    "                    }\n",
    "                    for image in grouped_images\n",
    "                ]\n",
    "                + [{\"type\": \"text\", \"text\": query}],\n",
    "            }\n",
    "        ]\n",
    "        completion = client.chat.completions.create(\n",
    "            model=\"Qwen/Qwen2.5-VL-72B-Instruct\",\n",
    "            messages=chat_template,\n",
    "            temperature=0.1,\n",
    "            max_tokens=10_000,\n",
    "        )\n",
    "        answer = completion.choices[0].message.content\n",
    "        if answer:\n",
    "            answer += f\"The information was retrived from the following documents: {img_paths}\"\n",
    "        return answer if answer else \"\"\n",
    "\n",
    "# class SaveContent(Tool):\n",
    "#     name = \"SaveContent\"\n",
    "#     description = \"Saves content to a file.\"\n",
    "#     inputs = {\n",
    "#         \"content\": {\n",
    "#             \"type\": \"string\",\n",
    "#             \"description\": \"The content to save.\"\n",
    "#         },\n",
    "#         \"filename\": {\n",
    "#             \"type\": \"string\",\n",
    "#             \"description\": \"The filename.\"\n",
    "#         }\n",
    "#     }\n",
    "#     output_type = \"string\"\n",
    "\n",
    "#     def forward(self, content: str, filename: str ):\n",
    "#         with open(filename, \"w\") as f:\n",
    "#             f.write(content)\n",
    "#         return f\"Content saved to {filename}\"\n",
    "\n"
   ]
  },
  {
   "cell_type": "code",
   "execution_count": 15,
   "id": "ff33cbf4-7ff8-4788-b595-9d73cbf1a2e8",
   "metadata": {
    "execution": {
     "iopub.execute_input": "2025-05-25T11:23:00.453929Z",
     "iopub.status.busy": "2025-05-25T11:23:00.452390Z",
     "iopub.status.idle": "2025-05-25T11:23:00.521867Z",
     "shell.execute_reply": "2025-05-25T11:23:00.520382Z",
     "shell.execute_reply.started": "2025-05-25T11:23:00.453816Z"
    },
    "scrolled": true
   },
   "outputs": [],
   "source": [
    "insurance_agent = CodeAgent(\n",
    "    tools=[InsuranceInfoRetriever(), FinalAnswerTool()],\n",
    "    model=InferenceClientModel(bill_to=\"VitalNest\", temperature=0.1),\n",
    "    additional_authorized_imports=[\"os\", \"requests\", \"bs4\", \"pil\", \"base64\", \"io\"],\n",
    "    max_steps=1,\n",
    "    # planning_interval=2,\n",
    "    verbosity_level=0,\n",
    "    name=\"insurance_agent\",\n",
    "    description=\"You answer health insurance questions based on the InsuranceInfoRetriever \" \\\n",
    "    \"tool. All health insurance questions must be answered by you.\",\n",
    ")"
   ]
  },
  {
   "cell_type": "code",
   "execution_count": 16,
   "id": "2e63367b-8496-44d6-981e-242733f59450",
   "metadata": {
    "execution": {
     "iopub.execute_input": "2025-05-25T11:23:01.188679Z",
     "iopub.status.busy": "2025-05-25T11:23:01.186566Z",
     "iopub.status.idle": "2025-05-25T11:24:33.318639Z",
     "shell.execute_reply": "2025-05-25T11:24:33.316639Z",
     "shell.execute_reply.started": "2025-05-25T11:23:01.188593Z"
    },
    "scrolled": true
   },
   "outputs": [],
   "source": [
    "# query = \"what critical illnesses are covered under secure 4 in 1?\"\n",
    "# # search_res = [\n",
    "# #     (\n",
    "# #         \"../src/pages/optima-restore-revision.pdf/optima-restore-revision.pdf_page_42.png\"\n",
    "# #     ),\n",
    "# #     (\n",
    "# #         \"../src/pages/optima-restore-revision.pdf/optima-restore-revision.pdf_page_12.png\"\n",
    "# #     ),\n",
    "# #     (\n",
    "# #         \"../src/pages/optima-restore-revision.pdf/optima-restore-revision.pdf_page_1.png\"\n",
    "# #     ),\n",
    "# # ]\n",
    "# insurance_agent.run(task=query\n",
    "#                     # f\"\"\"\n",
    "# # For the insurance search results below, answer the following query:{query}.\n",
    "# # \"\"\"\n",
    "# )"
   ]
  },
  {
   "cell_type": "code",
   "execution_count": null,
   "id": "ccffb075",
   "metadata": {},
   "outputs": [],
   "source": []
  },
  {
   "cell_type": "code",
   "execution_count": 17,
   "id": "0a0c36c9",
   "metadata": {},
   "outputs": [],
   "source": [
    "websearch_agent = ToolCallingAgent(\n",
    "    model=InferenceClientModel(\n",
    "        model_id=\"Qwen/Qwen3-30B-A3B\", bill_to=\"VitalNest\", temperature=0.1\n",
    "    ),\n",
    "    tools=[\n",
    "        VisitWebpageTool(max_output_length=20_000),\n",
    "        DuckDuckGoSearchTool(max_results=5),\n",
    "        FinalAnswerTool()\n",
    "    ],\n",
    "    max_steps=4,\n",
    "    verbosity_level=0,\n",
    "    name=\"web_search_agent\",\n",
    "    planning_interval=2,\n",
    "    description=\"Searches the web with a particular query.\",\n",
    ")"
   ]
  },
  {
   "cell_type": "code",
   "execution_count": 18,
   "id": "3ce9630f",
   "metadata": {},
   "outputs": [],
   "source": [
    "# websearch_agent.run(\"what's multi head latent attention?\")"
   ]
  },
  {
   "cell_type": "code",
   "execution_count": 19,
   "id": "829d4653",
   "metadata": {},
   "outputs": [
    {
     "name": "stderr",
     "output_type": "stream",
     "text": [
      "INFO:wikipediaapi:Wikipedia: language=en, user_agent: WikiAssistant (merlin@example.com) (Wikipedia-API/0.8.1; https://github.com/martin-majlis/Wikipedia-API/), extract_format=1\n"
     ]
    }
   ],
   "source": [
    "wikipedia_agent = ToolCallingAgent(\n",
    "    model=InferenceClientModel(model_id=\"Qwen/Qwen3-30B-A3B\", bill_to=\"VitalNest\", temperature=.1),\n",
    "    tools=[WikipediaSearchTool(user_agent=\"WikiAssistant (merlin@example.com)\"), FinalAnswerTool()],\n",
    "    max_steps=3,\n",
    "    verbosity_level=0,\n",
    "    name=\"wikipedia_agent\",\n",
    "    description=\"Searches Wikipedia for a topic.\",\n",
    ")"
   ]
  },
  {
   "cell_type": "code",
   "execution_count": 20,
   "id": "ce492b6d",
   "metadata": {},
   "outputs": [],
   "source": [
    "manager_agent = CodeAgent(\n",
    "    tools=[FinalAnswerTool()],\n",
    "    additional_authorized_imports=[\"os\"],\n",
    "    model=InferenceClientModel(\n",
    "        model_id=\"Qwen/Qwen3-235B-A22B\",\n",
    "        bill_to=\"VitalNest\",\n",
    "        temperature=0.1,\n",
    "    ),  # \"Qwen/Qwen3-30B-A3B\"\n",
    "    managed_agents=[websearch_agent, wikipedia_agent, insurance_agent],\n",
    "    max_steps=10,\n",
    "    planning_interval=2,\n",
    "    verbosity_level=-1,\n",
    "    add_base_tools=True,\n",
    "    name=\"Versatile_Multi_Agent\",\n",
    "    description=\"Answer health insurance related questions from pre-defined set of \" \\\n",
    "    \"health insurance documents, search wikipedia and the web for general information.\" \n",
    ")"
   ]
  },
  {
   "cell_type": "code",
   "execution_count": null,
   "id": "a5493bf2",
   "metadata": {},
   "outputs": [],
   "source": [
    "manager_agent.system_prompt = manager_agent.system_prompt"
   ]
  },
  {
   "cell_type": "code",
   "execution_count": 25,
   "id": "0fc430a2",
   "metadata": {},
   "outputs": [
    {
     "data": {
      "text/plain": [
       "'You are an expert assistant who can solve any task using code blobs. You will be given a task to solve as best you can.\\nTo do so, you have been given access to a list of tools: these tools are basically Python functions which you can call with code.\\nTo solve the task, you must plan forward to proceed in a series of steps, in a cycle of \\'Thought:\\', \\'Code:\\', and \\'Observation:\\' sequences.\\n\\nAt each step, in the \\'Thought:\\' sequence, you should first explain your reasoning towards solving the task and the tools that you want to use.\\nThen in the \\'Code:\\' sequence, you should write the code in simple Python. The code sequence must end with \\'<end_code>\\' sequence.\\nDuring each intermediate step, you can use \\'print()\\' to save whatever important information you will then need.\\nThese print outputs will then appear in the \\'Observation:\\' field, which will be available as input for the next step.\\nIn the end you have to return a final answer using the `final_answer` tool.\\n\\nHere are a few examples using notional tools:\\n---\\nTask: \"Generate an image of the oldest person in this document.\"\\n\\nThought: I will proceed step by step and use the following tools: `document_qa` to find the oldest person in the document, then `image_generator` to generate an image according to the answer.\\nCode:\\n```py\\nanswer = document_qa(document=document, question=\"Who is the oldest person mentioned?\")\\nprint(answer)\\n```<end_code>\\nObservation: \"The oldest person in the document is John Doe, a 55 year old lumberjack living in Newfoundland.\"\\n\\nThought: I will now generate an image showcasing the oldest person.\\nCode:\\n```py\\nimage = image_generator(\"A portrait of John Doe, a 55-year-old man living in Canada.\")\\nfinal_answer(image)\\n```<end_code>\\n\\n---\\nTask: \"What is the result of the following operation: 5 + 3 + 1294.678?\"\\n\\nThought: I will use python code to compute the result of the operation and then return the final answer using the `final_answer` tool\\nCode:\\n```py\\nresult = 5 + 3 + 1294.678\\nfinal_answer(result)\\n```<end_code>\\n\\n---\\nTask:\\n\"Answer the question in the variable `question` about the image stored in the variable `image`. The question is in French.\\nYou have been provided with these additional arguments, that you can access using the keys as variables in your python code:\\n{\\'question\\': \\'Quel est l\\'animal sur l\\'image?\\', \\'image\\': \\'path/to/image.jpg\\'}\"\\n\\nThought: I will use the following tools: `translator` to translate the question into English and then `image_qa` to answer the question on the input image.\\nCode:\\n```py\\ntranslated_question = translator(question=question, src_lang=\"French\", tgt_lang=\"English\")\\nprint(f\"The translated question is {translated_question}.\")\\nanswer = image_qa(image=image, question=translated_question)\\nfinal_answer(f\"The answer is {answer}\")\\n```<end_code>\\n\\n---\\nTask:\\nIn a 1979 interview, Stanislaus Ulam discusses with Martin Sherwin about other great physicists of his time, including Oppenheimer.\\nWhat does he say was the consequence of Einstein learning too much math on his creativity, in one word?\\n\\nThought: I need to find and read the 1979 interview of Stanislaus Ulam with Martin Sherwin.\\nCode:\\n```py\\npages = search(query=\"1979 interview Stanislaus Ulam Martin Sherwin physicists Einstein\")\\nprint(pages)\\n```<end_code>\\nObservation:\\nNo result found for query \"1979 interview Stanislaus Ulam Martin Sherwin physicists Einstein\".\\n\\nThought: The query was maybe too restrictive and did not find any results. Let\\'s try again with a broader query.\\nCode:\\n```py\\npages = search(query=\"1979 interview Stanislaus Ulam\")\\nprint(pages)\\n```<end_code>\\nObservation:\\nFound 6 pages:\\n[Stanislaus Ulam 1979 interview](https://ahf.nuclearmuseum.org/voices/oral-histories/stanislaus-ulams-interview-1979/)\\n\\n[Ulam discusses Manhattan Project](https://ahf.nuclearmuseum.org/manhattan-project/ulam-manhattan-project/)\\n\\n(truncated)\\n\\nThought: I will read the first 2 pages to know more.\\nCode:\\n```py\\nfor url in [\"https://ahf.nuclearmuseum.org/voices/oral-histories/stanislaus-ulams-interview-1979/\", \"https://ahf.nuclearmuseum.org/manhattan-project/ulam-manhattan-project/\"]:\\n    whole_page = visit_webpage(url)\\n    print(whole_page)\\n    print(\"\\\\n\" + \"=\"*80 + \"\\\\n\")  # Print separator between pages\\n```<end_code>\\nObservation:\\nManhattan Project Locations:\\nLos Alamos, NM\\nStanislaus Ulam was a Polish-American mathematician. He worked on the Manhattan Project at Los Alamos and later helped design the hydrogen bomb. In this interview, he discusses his work at\\n(truncated)\\n\\nThought: I now have the final answer: from the webpages visited, Stanislaus Ulam says of Einstein: \"He learned too much mathematics and sort of diminished, it seems to me personally, it seems to me his purely physics creativity.\" Let\\'s answer in one word.\\nCode:\\n```py\\nfinal_answer(\"diminished\")\\n```<end_code>\\n\\n---\\nTask: \"Which city has the highest population: Guangzhou or Shanghai?\"\\n\\nThought: I need to get the populations for both cities and compare them: I will use the tool `search` to get the population of both cities.\\nCode:\\n```py\\nfor city in [\"Guangzhou\", \"Shanghai\"]:\\n    print(f\"Population {city}:\", search(f\"{city} population\")\\n```<end_code>\\nObservation:\\nPopulation Guangzhou: [\\'Guangzhou has a population of 15 million inhabitants as of 2021.\\']\\nPopulation Shanghai: \\'26 million (2019)\\'\\n\\nThought: Now I know that Shanghai has the highest population.\\nCode:\\n```py\\nfinal_answer(\"Shanghai\")\\n```<end_code>\\n\\n---\\nTask: \"What is the current age of the pope, raised to the power 0.36?\"\\n\\nThought: I will use the tool `wiki` to get the age of the pope, and confirm that with a web search.\\nCode:\\n```py\\npope_age_wiki = wiki(query=\"current pope age\")\\nprint(\"Pope age as per wikipedia:\", pope_age_wiki)\\npope_age_search = web_search(query=\"current pope age\")\\nprint(\"Pope age as per google search:\", pope_age_search)\\n```<end_code>\\nObservation:\\nPope age: \"The pope Francis is currently 88 years old.\"\\n\\nThought: I know that the pope is 88 years old. Let\\'s compute the result using python code.\\nCode:\\n```py\\npope_current_age = 88 ** 0.36\\nfinal_answer(pope_current_age)\\n```<end_code>\\n\\nAbove example were using notional tools that might not exist for you. On top of performing computations in the Python code snippets that you create, you only have access to these tools, behaving like regular python functions:\\n```python\\ndef final_answer(answer: any) -> any:\\n    \"\"\"Provides a final answer to the given problem.\\n\\n    Args:\\n        answer: The final answer to the problem\\n    \"\"\"\\n\\ndef web_search(query: string) -> string:\\n    \"\"\"Performs a duckduckgo web search based on your query (think a Google search) then returns the top search results.\\n\\n    Args:\\n        query: The search query to perform.\\n    \"\"\"\\n\\ndef visit_webpage(url: string) -> string:\\n    \"\"\"Visits a webpage at the given url and reads its content as a markdown string. Use this to browse webpages.\\n\\n    Args:\\n        url: The url of the webpage to visit.\\n    \"\"\"\\n\\n```\\nYou can also give tasks to team members.\\nCalling a team member works the same as for calling a tool: simply, the only argument you can give in the call is \\'task\\'.\\nGiven that this team member is a real human, you should be very verbose in your task, it should be a long string providing informations as detailed as necessary.\\nHere is a list of the team members that you can call:\\n```python\\ndef web_search_agent(\"Your query goes here.\") -> str:\\n    \"\"\"Searches the web with a particular query.\"\"\"\\n\\ndef wikipedia_agent(\"Your query goes here.\") -> str:\\n    \"\"\"Searches Wikipedia for a topic.\"\"\"\\n\\ndef insurance_agent(\"Your query goes here.\") -> str:\\n    \"\"\"You answer health insurance questions based on the InsuranceInfoRetriever tool. All health insurance questions must be answered by you.\"\"\"\\n\\n```\\n\\nHere are the rules you should always follow to solve your task:\\n1. Always provide a \\'Thought:\\' sequence, and a \\'Code:\\\\n```py\\' sequence ending with \\'```<end_code>\\' sequence, else you will fail.\\n2. Use only variables that you have defined!\\n3. Always use the right arguments for the tools. DO NOT pass the arguments as a dict as in \\'answer = wiki({\\'query\\': \"What is the place where James Bond lives?\"})\\', but use the arguments directly as in \\'answer = wiki(query=\"What is the place where James Bond lives?\")\\'.\\n4. Take care to not chain too many sequential tool calls in the same code block, especially when the output format is unpredictable. For instance, a call to search has an unpredictable return format, so do not have another tool call that depends on its output in the same block: rather output results with print() to use them in the next block.\\n5. Call a tool only when needed, and never re-do a tool call that you previously did with the exact same parameters.\\n6. Don\\'t name any new variable with the same name as a tool: for instance don\\'t name a variable \\'final_answer\\'.\\n7. Never create any notional variables in our code, as having these in your logs will derail you from the true variables.\\n8. You can use imports in your code, but only from the following list of modules: [\\'collections\\', \\'datetime\\', \\'itertools\\', \\'math\\', \\'os\\', \\'queue\\', \\'random\\', \\'re\\', \\'stat\\', \\'statistics\\', \\'time\\', \\'unicodedata\\']\\n9. The state persists between code executions: so if in one step you\\'ve created variables or imported modules, these will all persist.\\n10. Don\\'t give up! You\\'re in charge of solving the task, not providing directions to solve it.\\n\\nNow Begin!abra'"
      ]
     },
     "execution_count": 25,
     "metadata": {},
     "output_type": "execute_result"
    }
   ],
   "source": [
    "manager_agent.system_prompt"
   ]
  },
  {
   "cell_type": "code",
   "execution_count": null,
   "id": "333bcd23",
   "metadata": {},
   "outputs": [],
   "source": []
  },
  {
   "cell_type": "code",
   "execution_count": null,
   "id": "c31461ef",
   "metadata": {},
   "outputs": [],
   "source": [
    "query = \"explain multi head latent attention\"\n",
    "# query = \"What critical cancer illnesses are covered in secure 4 in 1 ?\"\n",
    "manager_agent.run(\n",
    "    task=\n",
    "    f\"\"\"\n",
    "    Apart from the instructions that we have given to you, FOLLOW the Additional Instructions below:\n",
    "    ```\n",
    "    For any insurance related queries, always use the `insurance_agent` first and return the results.\n",
    "    You are allowed to rephrase any query and detail it if required. When in doubt always ask the user a follow up question.\n",
    "    Don't assume anything.\n",
    "    ```\n",
    "    Here's the query that you need to answer: {query}\n",
    "\"\"\",\n",
    "    # reset=False,\n",
    "    #     \"\"\"Search for `topic`:multi head latent attention in wikipedia.\n",
    "    #                   If there's no information about the same in Wikipedia, search the web\n",
    "    #                   for it and return a summary of the findings along with the search result links.\n",
    "    # \"\"\"\n",
    ")"
   ]
  },
  {
   "cell_type": "code",
   "execution_count": 6,
   "id": "b14414ff",
   "metadata": {},
   "outputs": [
    {
     "name": "stderr",
     "output_type": "stream",
     "text": [
      "INFO:colpali_engine.utils.torch_utils:Using device: cuda:0\n"
     ]
    },
    {
     "data": {
      "application/vnd.jupyter.widget-view+json": {
       "model_id": "f51472e8fd304b7c88d3dad7c8e52a60",
       "version_major": 2,
       "version_minor": 0
      },
      "text/plain": [
       "Fetching 2 files:   0%|          | 0/2 [00:00<?, ?it/s]"
      ]
     },
     "metadata": {},
     "output_type": "display_data"
    },
    {
     "data": {
      "application/vnd.jupyter.widget-view+json": {
       "model_id": "9a07366305bc47febf552f593a35aee4",
       "version_major": 2,
       "version_minor": 0
      },
      "text/plain": [
       "Loading checkpoint shards:   0%|          | 0/2 [00:00<?, ?it/s]"
      ]
     },
     "metadata": {},
     "output_type": "display_data"
    },
    {
     "name": "stderr",
     "output_type": "stream",
     "text": [
      "INFO:wikipediaapi:Wikipedia: language=en, user_agent: WikiAssistant (merlin@example.com) (Wikipedia-API/0.8.1; https://github.com/martin-majlis/Wikipedia-API/), extract_format=1\n"
     ]
    }
   ],
   "source": [
    "from src.insurance_assistants.ui import UI"
   ]
  },
  {
   "cell_type": "code",
   "execution_count": 7,
   "id": "276ddf02",
   "metadata": {},
   "outputs": [
    {
     "name": "stderr",
     "output_type": "stream",
     "text": [
      "INFO:httpx:HTTP Request: GET https://api.gradio.app/pkg-version \"HTTP/1.1 200 OK\"\n",
      "INFO:httpx:HTTP Request: GET http://127.0.0.1:7860/gradio_api/startup-events \"HTTP/1.1 200 OK\"\n",
      "INFO:httpx:HTTP Request: HEAD http://127.0.0.1:7860/ \"HTTP/1.1 200 OK\"\n"
     ]
    },
    {
     "name": "stderr",
     "output_type": "stream",
     "text": [
      "INFO:httpx:HTTP Request: GET https://api.gradio.app/v3/tunnel-request \"HTTP/1.1 200 OK\"\n"
     ]
    },
    {
     "name": "stdout",
     "output_type": "stream",
     "text": [
      "* Running on local URL:  http://127.0.0.1:7860\n",
      "* Running on public URL: https://072527ec1cbbaef14a.gradio.live\n",
      "\n",
      "This share link expires in 1 week. For free permanent hosting and GPU upgrades, run `gradio deploy` from the terminal in the working directory to deploy to Hugging Face Spaces (https://huggingface.co/spaces)\n"
     ]
    },
    {
     "name": "stderr",
     "output_type": "stream",
     "text": [
      "INFO:httpx:HTTP Request: HEAD https://072527ec1cbbaef14a.gradio.live \"HTTP/1.1 200 OK\"\n"
     ]
    },
    {
     "data": {
      "text/html": [
       "<div><iframe src=\"https://072527ec1cbbaef14a.gradio.live\" width=\"100%\" height=\"500\" allow=\"autoplay; camera; microphone; clipboard-read; clipboard-write;\" frameborder=\"0\" allowfullscreen></iframe></div>"
      ],
      "text/plain": [
       "<IPython.core.display.HTML object>"
      ]
     },
     "metadata": {},
     "output_type": "display_data"
    },
    {
     "name": "stderr",
     "output_type": "stream",
     "text": [
      "INFO:httpx:HTTP Request: GET https://api.gradio.app/pkg-version \"HTTP/1.1 200 OK\"\n"
     ]
    },
    {
     "name": "stdout",
     "output_type": "stream",
     "text": [
      "Agent has memory: True\n",
      "Memory type: <class 'smolagents.memory.AgentMemory'>\n"
     ]
    },
    {
     "name": "stderr",
     "output_type": "stream",
     "text": [
      "INFO:primp:response: https://html.duckduckgo.com/html 200\n"
     ]
    },
    {
     "name": "stdout",
     "output_type": "stream",
     "text": [
      "Agent has memory: True\n",
      "Memory type: <class 'smolagents.memory.AgentMemory'>\n"
     ]
    },
    {
     "name": "stderr",
     "output_type": "stream",
     "text": [
      "INFO:src.insurance_assistants.complex_rag:Searching for 1 queries\n",
      "INFO:src.insurance_assistants.complex_rag:Searching for query: domiciliary care group health insurance\n",
      "INFO:src.insurance_assistants.complex_rag:Processing 1 texts\n",
      "INFO:src.insurance_assistants.complex_rag:Search result: [(np.float32(12.982779), 245), (np.float32(12.954468), 250), (np.float32(12.773381), 246), (np.float32(12.320351), 228)] for query: domiciliary care group health insurance\n",
      "INFO:src.insurance_assistants.complex_rag:✅ Retrieved the images for answering query.\n",
      "INFO:primp:response: https://html.duckduckgo.com/html 200\n"
     ]
    },
    {
     "name": "stdout",
     "output_type": "stream",
     "text": [
      "Agent has memory: True\n",
      "Memory type: <class 'smolagents.memory.AgentMemory'>\n"
     ]
    },
    {
     "name": "stderr",
     "output_type": "stream",
     "text": [
      "INFO:src.insurance_assistants.complex_rag:Searching for 1 queries\n",
      "INFO:src.insurance_assistants.complex_rag:Searching for query: Optima Restore\n",
      "INFO:src.insurance_assistants.complex_rag:Processing 1 texts\n",
      "INFO:src.insurance_assistants.complex_rag:Search result: [(np.float32(13.196744), 376), (np.float32(13.037691), 378), (np.float32(12.947463), 375), (np.float32(12.930189), 335)] for query: Optima Restore\n",
      "INFO:src.insurance_assistants.complex_rag:✅ Retrieved the images for answering query.\n"
     ]
    },
    {
     "name": "stdout",
     "output_type": "stream",
     "text": [
      "Keyboard interruption in main thread... closing server.\n",
      "Killing tunnel 127.0.0.1:7860 <> https://072527ec1cbbaef14a.gradio.live\n"
     ]
    }
   ],
   "source": [
    "UI().launch(share=True)"
   ]
  },
  {
   "cell_type": "code",
   "execution_count": null,
   "id": "1e231afc",
   "metadata": {},
   "outputs": [],
   "source": []
  },
  {
   "cell_type": "code",
   "execution_count": null,
   "id": "8de71a46",
   "metadata": {},
   "outputs": [],
   "source": []
  },
  {
   "cell_type": "code",
   "execution_count": null,
   "id": "598137d5",
   "metadata": {},
   "outputs": [],
   "source": []
  },
  {
   "cell_type": "code",
   "execution_count": 7,
   "id": "0116b0c2",
   "metadata": {},
   "outputs": [
    {
     "name": "stderr",
     "output_type": "stream",
     "text": [
      "INFO:colpali_engine.utils.torch_utils:Using device: cuda:0\n"
     ]
    },
    {
     "data": {
      "application/vnd.jupyter.widget-view+json": {
       "model_id": "7b2b2d79c6e34b6d91d8cdb04d4f42a7",
       "version_major": 2,
       "version_minor": 0
      },
      "text/plain": [
       "Fetching 2 files:   0%|          | 0/2 [00:00<?, ?it/s]"
      ]
     },
     "metadata": {},
     "output_type": "display_data"
    },
    {
     "data": {
      "application/vnd.jupyter.widget-view+json": {
       "model_id": "01f45bd6c1314f9e944361dfe48648e6",
       "version_major": 2,
       "version_minor": 0
      },
      "text/plain": [
       "Loading checkpoint shards:   0%|          | 0/2 [00:00<?, ?it/s]"
      ]
     },
     "metadata": {},
     "output_type": "display_data"
    }
   ],
   "source": [
    "from src.insurance_assistants.complex_rag import RAG"
   ]
  },
  {
   "cell_type": "code",
   "execution_count": null,
   "id": "1f9473ec",
   "metadata": {},
   "outputs": [],
   "source": []
  },
  {
   "cell_type": "code",
   "execution_count": 8,
   "id": "297cd8ce",
   "metadata": {},
   "outputs": [],
   "source": [
    "rag_app = RAG()\n",
    "rag_app.vectordb_id = \"policy_wordings\""
   ]
  },
  {
   "cell_type": "code",
   "execution_count": 9,
   "id": "0357d648",
   "metadata": {},
   "outputs": [
    {
     "name": "stderr",
     "output_type": "stream",
     "text": [
      "INFO:src.insurance_assistants.complex_rag:Searching for 1 queries\n",
      "INFO:src.insurance_assistants.complex_rag:Searching for query: what critical illnesses are covered under optima restore?\n",
      "INFO:src.insurance_assistants.complex_rag:Processing 1 texts\n",
      "INFO:src.insurance_assistants.complex_rag:Search result: [(np.float32(17.525904), 376), (np.float32(17.395565), 377), (np.float32(17.221403), 378), (np.float32(16.622517), 346)] for query: what critical illnesses are covered under optima restore?\n",
      "INFO:src.insurance_assistants.complex_rag:✅ Retrieved the images for answering query.\n"
     ]
    }
   ],
   "source": [
    "query = \"what critical illnesses are covered under optima restore?\"\n",
    "res = rag_app.search_documents(query=query)\n"
   ]
  },
  {
   "cell_type": "code",
   "execution_count": null,
   "id": "f5891393",
   "metadata": {},
   "outputs": [],
   "source": []
  },
  {
   "cell_type": "code",
   "execution_count": 1,
   "id": "4c6f5c4c",
   "metadata": {},
   "outputs": [],
   "source": [
    "import torch\n",
    "from PIL import Image\n",
    "from transformers.utils.import_utils import is_flash_attn_2_available\n",
    "\n",
    "from colpali_engine.models import ColQwen2_5, ColQwen2_5_Processor\n"
   ]
  },
  {
   "cell_type": "code",
   "execution_count": null,
   "id": "8ae2026e",
   "metadata": {},
   "outputs": [
    {
     "data": {
      "application/vnd.jupyter.widget-view+json": {
       "model_id": "8ba3965a0962432ea889e6de249c5bda",
       "version_major": 2,
       "version_minor": 0
      },
      "text/plain": [
       "Fetching 2 files:   0%|          | 0/2 [00:00<?, ?it/s]"
      ]
     },
     "metadata": {},
     "output_type": "display_data"
    },
    {
     "data": {
      "application/vnd.jupyter.widget-view+json": {
       "model_id": "8f3e897980b84d238b5cedc58586704f",
       "version_major": 2,
       "version_minor": 0
      },
      "text/plain": [
       "Loading checkpoint shards:   0%|          | 0/2 [00:00<?, ?it/s]"
      ]
     },
     "metadata": {},
     "output_type": "display_data"
    }
   ],
   "source": [
    "\n",
    "model = ColQwen2_5.from_pretrained(\n",
    "    pretrained_model_name_or_path=\"vidore/colqwen2.5-v0.2\",\n",
    "    torch_dtype=torch.bfloat16,\n",
    "    device_map=\"cuda:0\",  # or \"mps\" if on Apple Silicon\n",
    "    attn_implementation=\"flash_attention_2\" if is_flash_attn_2_available() else None,\n",
    ").eval()\n",
    "processor = ColQwen2_5_Processor.from_pretrained(\"vidore/colqwen2.5-v0.2\", use_fast=True)\n"
   ]
  },
  {
   "cell_type": "code",
   "execution_count": 3,
   "id": "fc98854d",
   "metadata": {},
   "outputs": [],
   "source": [
    "\n",
    "# Your inputs\n",
    "images = [\n",
    "    Image.new(\"RGB\", (128, 128), color=\"white\"),\n",
    "    Image.new(\"RGB\", (128, 128), color=\"black\"),\n",
    "]\n",
    "queries = [\n",
    "    \"Is attention really all you need?\",\n",
    "    \"What is the amount of bananas farmed in Salvador?\",\n",
    "]\n",
    "\n",
    "# Process the inputs\n",
    "batch_images = processor.process_images(images).to(model.device)\n",
    "batch_queries = processor.process_queries(queries).to(model.device)\n",
    "\n",
    "# Forward pass\n",
    "with torch.no_grad():\n",
    "    image_embeddings = model(**batch_images)\n",
    "    query_embeddings = model(**batch_queries)\n",
    "\n",
    "scores = processor.score_multi_vector(query_embeddings, image_embeddings)\n"
   ]
  },
  {
   "cell_type": "code",
   "execution_count": null,
   "id": "c4d1ac9c",
   "metadata": {},
   "outputs": [],
   "source": []
  }
 ],
 "metadata": {
  "kernelspec": {
   "display_name": ".venv",
   "language": "python",
   "name": "python3"
  },
  "language_info": {
   "codemirror_mode": {
    "name": "ipython",
    "version": 3
   },
   "file_extension": ".py",
   "mimetype": "text/x-python",
   "name": "python",
   "nbconvert_exporter": "python",
   "pygments_lexer": "ipython3",
   "version": "3.12.10"
  }
 },
 "nbformat": 4,
 "nbformat_minor": 5
}
