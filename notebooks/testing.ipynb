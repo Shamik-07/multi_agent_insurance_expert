{
 "cells": [
  {
   "cell_type": "code",
   "execution_count": 1,
   "id": "950e472c",
   "metadata": {},
   "outputs": [],
   "source": [
    "%load_ext autoreload\n",
    "%autoreload 2\n"
   ]
  },
  {
   "cell_type": "code",
   "execution_count": 53,
   "id": "80a43c4a-e36e-438e-a7ef-d6b6ed1e88e2",
   "metadata": {
    "execution": {
     "iopub.execute_input": "2025-05-25T11:36:58.593607Z",
     "iopub.status.busy": "2025-05-25T11:36:58.592363Z",
     "iopub.status.idle": "2025-05-25T11:36:59.409700Z",
     "shell.execute_reply": "2025-05-25T11:36:59.408793Z",
     "shell.execute_reply.started": "2025-05-25T11:36:58.593527Z"
    }
   },
   "outputs": [],
   "source": [
    "from dotenv import load_dotenv, find_dotenv\n",
    "from smolagents import (\n",
    "    CodeAgent,\n",
    "    DuckDuckGoSearchTool,\n",
    "    InferenceClientModel,\n",
    "    VisitWebpageTool,\n",
    "    WikipediaSearchTool,\n",
    "    FinalAnswerTool,\n",
    "    GradioUI,\n",
    "    Tool,\n",
    "    ToolCallingAgent\n",
    ")\n",
    "import sys\n",
    "from pyprojroot import find_root, has_file\n",
    "_ = load_dotenv(find_dotenv())"
   ]
  },
  {
   "cell_type": "code",
   "execution_count": 3,
   "id": "7476ea0c",
   "metadata": {},
   "outputs": [],
   "source": [
    "project_root_dir = find_root(has_file(\"README.md\")).as_posix()\n",
    "sys.path.extend([project_root_dir])\n"
   ]
  },
  {
   "cell_type": "code",
   "execution_count": 4,
   "id": "e3e6e12f",
   "metadata": {},
   "outputs": [],
   "source": [
    "from huggingface_hub import model_info, InferenceClient"
   ]
  },
  {
   "cell_type": "code",
   "execution_count": 5,
   "id": "85cb1982",
   "metadata": {},
   "outputs": [],
   "source": [
    "from PIL import Image\n",
    "from io import BytesIO\n",
    "import base64\n",
    "from pathlib import Path"
   ]
  },
  {
   "cell_type": "code",
   "execution_count": 6,
   "id": "c22296de",
   "metadata": {},
   "outputs": [],
   "source": [
    "client = InferenceClient(\n",
    "    provider=\"hyperbolic\",\n",
    "    bill_to=\"VitalNest\",\n",
    ")\n"
   ]
  },
  {
   "cell_type": "code",
   "execution_count": 2,
   "id": "7cec2069",
   "metadata": {},
   "outputs": [],
   "source": [
    "all_inference_models = !curl -s https://huggingface.co/api/models | jq \".[].id\""
   ]
  },
  {
   "cell_type": "code",
   "execution_count": null,
   "id": "6e1c9797",
   "metadata": {},
   "outputs": [
    {
     "data": {
      "text/plain": [
       "'warm'"
      ]
     },
     "execution_count": 29,
     "metadata": {},
     "output_type": "execute_result"
    }
   ],
   "source": [
    "info = model_info(\"google/gemma-3-27b-it\", expand=\"inference\")\n",
    "info.inference\n"
   ]
  },
  {
   "cell_type": "code",
   "execution_count": 22,
   "id": "2dc107e2",
   "metadata": {},
   "outputs": [],
   "source": [
    "vlm_model = InferenceClientModel(model_id=\"Qwen/Qwen2.5-VL-72B-Instruct\",bill_to=\"VitalNest\",\n",
    "                                 timeout=300,temperature=.1, max_tokens=10000)"
   ]
  },
  {
   "cell_type": "code",
   "execution_count": null,
   "id": "085aa7d4",
   "metadata": {},
   "outputs": [],
   "source": [
    "# def encode_image_to_base64(image_path):\n",
    "#     \"\"\"\n",
    "#     Encodes an image file to a base64 string.\n",
    "\n",
    "#     Args:\n",
    "#         image_path (str): Path to the image file.\n",
    "\n",
    "#     Returns:\n",
    "#         str: Base64 encoded image string.\n",
    "#     \"\"\"\n",
    "#     \"\"\"Encodes a PIL image to a base64 string.\"\"\"\n",
    "#     image = Image.open(image_path)\n",
    "#     buffered = BytesIO()\n",
    "#     image.save(buffered, format=\"PNG\")\n",
    "#     return base64.b64encode(buffered.getvalue()).decode(\"utf-8\")\n"
   ]
  },
  {
   "cell_type": "code",
   "execution_count": null,
   "id": "4f5b9b6d",
   "metadata": {},
   "outputs": [],
   "source": [
    "# # MAXIMUM of 4 images can be sent\n",
    "# img_paths = [\n",
    "#     Path(\n",
    "#         \"../src/pages/optima-restore-revision.pdf/optima-restore-revision.pdf_page_42.png\"\n",
    "#     ),\n",
    "#     Path(\n",
    "#         \"../src/pages/optima-restore-revision.pdf/optima-restore-revision.pdf_page_12.png\"\n",
    "#     ),\n",
    "#     Path(\n",
    "#         \"../src/pages/optima-restore-revision.pdf/optima-restore-revision.pdf_page_1.png\"\n",
    "#     ),\n",
    "#     # Path(\n",
    "#     #     \"../src/pages/optima-restore-revision.pdf/optima-restore-revision.pdf_page_43.png\"\n",
    "#     # ),\n",
    "#     # Path(\n",
    "#     #     \"../src/pages/optima-restore-revision.pdf/optima-restore-revision.pdf_page_44.png\"\n",
    "#     # ),\n",
    "# ]"
   ]
  },
  {
   "cell_type": "code",
   "execution_count": null,
   "id": "73a61942",
   "metadata": {},
   "outputs": [],
   "source": [
    "# # grouped_images = [Image.open(fp=pth) for pth in img_paths]\n",
    "# grouped_images = [encode_image_to_base64(pth) for pth in img_paths]"
   ]
  },
  {
   "cell_type": "code",
   "execution_count": null,
   "id": "0fa8f187",
   "metadata": {},
   "outputs": [],
   "source": [
    "# text_query = \"\"\"what critical illnesses are covered under optima restore?\n",
    "# If the answer isn't in these documents, say you don't know.\"\"\"\n",
    "# chat_template = [\n",
    "#     {\n",
    "# \"role\":\"system\", \"content\":\"\"\"You find answers from the relevant documents. Answer only \n",
    "# from these documents. If answer isn't available return 'Question cannot be answered based\n",
    "# on the documents provided.' \"\"\"\n",
    "#     },\n",
    "#     {\n",
    "#         \"role\": \"user\",\n",
    "#         \"content\": [\n",
    "#             {\n",
    "#                 \"type\": \"image_url\",\n",
    "#                 \"image_url\": {\"url\": f\"data:image/jpeg;base64,{image}\"},\n",
    "#             }\n",
    "#             for image in grouped_images\n",
    "#         ]\n",
    "#         + [{\"type\": \"text\", \"text\": text_query}],\n",
    "#     }\n",
    "# ]\n"
   ]
  },
  {
   "cell_type": "code",
   "execution_count": null,
   "id": "7e6d672b",
   "metadata": {},
   "outputs": [
    {
     "name": "stdout",
     "output_type": "stream",
     "text": [
      "The critical illnesses covered under Optima Restore include Cancer, Open Chest CABG, First Heart Attack, Kidney Failure, Major Organ/Bone Marrow Transplant, Multiple Sclerosis, Permanent Paralysis of Limbs, and Stroke.\n"
     ]
    }
   ],
   "source": [
    "# print(vlm_model.generate(messages=chat_template).content)"
   ]
  },
  {
   "cell_type": "code",
   "execution_count": null,
   "id": "4f0477f4",
   "metadata": {},
   "outputs": [
    {
     "name": "stdout",
     "output_type": "stream",
     "text": [
      "The critical illnesses covered under Optima Restore include Cancer, Open Chest CABG, First Heart Attack, Kidney Failure, Major Organ/Bone Marrow Transplant, Multiple Sclerosis, Permanent Paralysis of Limbs, and Stroke.\n"
     ]
    }
   ],
   "source": [
    "# completion = client.chat.completions.create(\n",
    "#     model=\"Qwen/Qwen2.5-VL-72B-Instruct\",\n",
    "#     messages=chat_template,\n",
    "#     temperature=.1,\n",
    "#     max_tokens=10_000\n",
    "# )\n",
    "\n",
    "# print(completion.choices[0].message.content)\n",
    "\n",
    "# # completion = client.chat.completions.create(\n",
    "# #     model=\"Qwen/Qwen2.5-VL-72B-Instruct\",\n",
    "# #     messages=[\n",
    "# #         {\n",
    "# #             \"role\": \"user\",\n",
    "# #             \"content\": [\n",
    "# #                 {\"type\": \"text\", \"text\": \"Describe the images in one sentence.\"},\n",
    "# #                 {\n",
    "# #                     \"type\": \"image_url\",\n",
    "# #                     \"image_url\": {\n",
    "# #                         \"url\": \"https://cdn.britannica.com/61/93061-050-99147DCE/Statue-of-Liberty-Island-New-York-Bay.jpg\"\n",
    "# #                     },\n",
    "# #                 },\n",
    "# #                 {\n",
    "# #                     \"type\": \"image_url\",\n",
    "# #                     \"image_url\": {\n",
    "# #                         \"url\": \"https://upload.wikimedia.org/wikipedia/commons/3/3d/Nicu%C8%99or_Dan_%288_mai_2025%29.jpg\"\n",
    "# #                     },\n",
    "# #                 },\n",
    "# #             ],\n",
    "# #         }\n",
    "# #     ],\n",
    "# # )\n",
    "\n",
    "# # print(completion.choices[0].message)\n"
   ]
  },
  {
   "cell_type": "code",
   "execution_count": null,
   "id": "59c5b826",
   "metadata": {},
   "outputs": [],
   "source": []
  },
  {
   "cell_type": "code",
   "execution_count": null,
   "id": "537ce44d",
   "metadata": {},
   "outputs": [],
   "source": []
  },
  {
   "cell_type": "code",
   "execution_count": 30,
   "id": "3a5c91b2-c3dc-4a38-8d12-23ebde2324d1",
   "metadata": {
    "execution": {
     "iopub.execute_input": "2025-05-25T11:36:59.411663Z",
     "iopub.status.busy": "2025-05-25T11:36:59.410797Z",
     "iopub.status.idle": "2025-05-25T11:36:59.419560Z",
     "shell.execute_reply": "2025-05-25T11:36:59.418230Z",
     "shell.execute_reply.started": "2025-05-25T11:36:59.411622Z"
    }
   },
   "outputs": [],
   "source": [
    "class InsuranceInfoRetriever(Tool):\n",
    "    name = \"InsuranceInfoRetriever\"\n",
    "    description = \"Retrieves information from insurance documents.\"\n",
    "    inputs = {\n",
    "        \"query\": {\n",
    "            \"type\": \"string\",\n",
    "            \"description\": \"The query to search for.\"\n",
    "        },\n",
    "    }\n",
    "    output_type = \"string\"\n",
    "\n",
    "    def forward(self, query: str) -> str:\n",
    "        client = InferenceClient(\n",
    "            provider=\"hyperbolic\",\n",
    "            bill_to=\"VitalNest\",\n",
    "        )\n",
    "        results = rag_app.search_documents(query)\n",
    "        img_paths = [Path(res[0]) for res in results]\n",
    "\n",
    "        grouped_images = [rag_app.encode_image_to_base64(pth) for pth in img_paths]\n",
    "        chat_template = [\n",
    "            {\n",
    "        \"role\":\"system\", \"content\":\"\"\"You find answers from the relevant documents. Answer only \n",
    "        from these documents. If answer isn't available return 'Question cannot be answered based\n",
    "        on the documents provided.' \"\"\"\n",
    "            },\n",
    "            {\n",
    "                \"role\": \"user\",\n",
    "                \"content\": [\n",
    "                    {\n",
    "                        \"type\": \"image_url\",\n",
    "                        \"image_url\": {\"url\": f\"data:image/jpeg;base64,{image}\"},\n",
    "                    }\n",
    "                    for image in grouped_images\n",
    "                ]\n",
    "                + [{\"type\": \"text\", \"text\": query}],\n",
    "            }\n",
    "        ]\n",
    "        completion = client.chat.completions.create(\n",
    "            model=\"Qwen/Qwen2.5-VL-72B-Instruct\",\n",
    "            messages=chat_template,\n",
    "            temperature=0.1,\n",
    "            max_tokens=10_000,\n",
    "        )\n",
    "        answer = completion.choices[0].message.content\n",
    "        if answer:\n",
    "            answer += f\"The information was retrived from the following documents: {img_paths}\"\n",
    "        return answer if answer else \"\"\n",
    "\n",
    "# class SaveContent(Tool):\n",
    "#     name = \"SaveContent\"\n",
    "#     description = \"Saves content to a file.\"\n",
    "#     inputs = {\n",
    "#         \"content\": {\n",
    "#             \"type\": \"string\",\n",
    "#             \"description\": \"The content to save.\"\n",
    "#         },\n",
    "#         \"filename\": {\n",
    "#             \"type\": \"string\",\n",
    "#             \"description\": \"The filename.\"\n",
    "#         }\n",
    "#     }\n",
    "#     output_type = \"string\"\n",
    "\n",
    "#     def forward(self, content: str, filename: str ):\n",
    "#         with open(filename, \"w\") as f:\n",
    "#             f.write(content)\n",
    "#         return f\"Content saved to {filename}\"\n",
    "\n"
   ]
  },
  {
   "cell_type": "code",
   "execution_count": 41,
   "id": "ff33cbf4-7ff8-4788-b595-9d73cbf1a2e8",
   "metadata": {
    "execution": {
     "iopub.execute_input": "2025-05-25T11:23:00.453929Z",
     "iopub.status.busy": "2025-05-25T11:23:00.452390Z",
     "iopub.status.idle": "2025-05-25T11:23:00.521867Z",
     "shell.execute_reply": "2025-05-25T11:23:00.520382Z",
     "shell.execute_reply.started": "2025-05-25T11:23:00.453816Z"
    },
    "scrolled": true
   },
   "outputs": [],
   "source": [
    "insurance_agent = CodeAgent(\n",
    "    tools=[InsuranceInfoRetriever(), FinalAnswerTool()],\n",
    "    model=InferenceClientModel(bill_to=\"VitalNest\", temperature=0.1),\n",
    "    additional_authorized_imports=[\"os\", \"requests\", \"bs4\", \"pil\", \"base64\", \"io\"],\n",
    "    max_steps=1,\n",
    "    # planning_interval=2,\n",
    "    verbosity_level=0,\n",
    "    name=\"insurance_agent\",\n",
    "    description=\"You answer insurance questions based on the InsuranceInfoRetriever tool.\",\n",
    ")"
   ]
  },
  {
   "cell_type": "code",
   "execution_count": 42,
   "id": "2e63367b-8496-44d6-981e-242733f59450",
   "metadata": {
    "execution": {
     "iopub.execute_input": "2025-05-25T11:23:01.188679Z",
     "iopub.status.busy": "2025-05-25T11:23:01.186566Z",
     "iopub.status.idle": "2025-05-25T11:24:33.318639Z",
     "shell.execute_reply": "2025-05-25T11:24:33.316639Z",
     "shell.execute_reply.started": "2025-05-25T11:23:01.188593Z"
    },
    "scrolled": true
   },
   "outputs": [
    {
     "name": "stderr",
     "output_type": "stream",
     "text": [
      "INFO:src.insurance_assistants.complex_rag:Searching for 1 queries\n",
      "INFO:src.insurance_assistants.complex_rag:Searching for query: Secure 4 in 1 critical illnesses\n",
      "INFO:src.insurance_assistants.complex_rag:Processing 1 texts\n"
     ]
    },
    {
     "name": "stderr",
     "output_type": "stream",
     "text": [
      "INFO:src.insurance_assistants.complex_rag:Search result: [(np.float32(14.544364), 468), (np.float32(14.452676), 34), (np.float32(14.385986), 262), (np.float32(14.366423), 286)] for query: Secure 4 in 1 critical illnesses\n",
      "INFO:src.insurance_assistants.complex_rag:✅ Retrieved the images for answering query.\n"
     ]
    },
    {
     "data": {
      "text/html": [
       "<pre style=\"white-space:pre;overflow-x:auto;line-height:normal;font-family:Menlo,'DejaVu Sans Mono',consolas,'Courier New',monospace\"><span style=\"color: #800000; text-decoration-color: #800000; font-weight: bold\">Reached max steps.</span>\n",
       "</pre>\n"
      ],
      "text/plain": [
       "\u001b[1;31mReached max steps.\u001b[0m\n"
      ]
     },
     "metadata": {},
     "output_type": "display_data"
    },
    {
     "data": {
      "text/plain": [
       "'It seems that the specific details about the critical illnesses covered under the Secure 4 in 1 plan are not available in the provided documents. However, I can provide a general idea of what critical illnesses are typically covered in such plans. Common critical illnesses covered in many 4-in-1 insurance plans include:\\n\\n1. **Cancer**: Treatment for various types of cancer.\\n2. **Heart Attack**: Coverage for the medical expenses related to a heart attack.\\n3. **Stroke**: Coverage for the medical expenses related to a stroke.\\n4. **Coronary Artery Bypass Graft (CABG)**: Coverage for heart surgery to treat blocked arteries.\\n5. **Renal Failure**: Coverage for kidney failure and its treatment.\\n6. **Liver Transplant**: Coverage for liver transplant surgery.\\n7. **Bowel Cancer**: Coverage for the treatment of bowel cancer.\\n8. **Prostate Cancer**: Coverage for the treatment of prostate cancer.\\n9. **Breast Cancer**: Coverage for the treatment of breast cancer.\\n10. **Aortic Aneurysm**: Coverage for the treatment of an aortic aneurysm.\\n\\nPlease note that the exact list of critical illnesses covered can vary by insurance provider and plan. For the most accurate and up-to-date information, it is best to consult the specific policy document or contact the insurance provider directly.'"
      ]
     },
     "execution_count": 42,
     "metadata": {},
     "output_type": "execute_result"
    }
   ],
   "source": [
    "query = \"what critical illnesses are covered under secure 4 in 1?\"\n",
    "# search_res = [\n",
    "#     (\n",
    "#         \"../src/pages/optima-restore-revision.pdf/optima-restore-revision.pdf_page_42.png\"\n",
    "#     ),\n",
    "#     (\n",
    "#         \"../src/pages/optima-restore-revision.pdf/optima-restore-revision.pdf_page_12.png\"\n",
    "#     ),\n",
    "#     (\n",
    "#         \"../src/pages/optima-restore-revision.pdf/optima-restore-revision.pdf_page_1.png\"\n",
    "#     ),\n",
    "# ]\n",
    "insurance_agent.run(task=query\n",
    "                    # f\"\"\"\n",
    "# For the insurance search results below, answer the following query:{query}.\n",
    "# \"\"\"\n",
    ")"
   ]
  },
  {
   "cell_type": "code",
   "execution_count": null,
   "id": "ccffb075",
   "metadata": {},
   "outputs": [],
   "source": []
  },
  {
   "cell_type": "code",
   "execution_count": 44,
   "id": "0a0c36c9",
   "metadata": {},
   "outputs": [],
   "source": [
    "websearch_agent = ToolCallingAgent(\n",
    "    model=InferenceClientModel(\n",
    "        model_id=\"Qwen/Qwen3-30B-A3B\", bill_to=\"VitalNest\", temperature=0.1\n",
    "    ),\n",
    "    tools=[\n",
    "        VisitWebpageTool(max_output_length=20_000),\n",
    "        DuckDuckGoSearchTool(max_results=5),\n",
    "        FinalAnswerTool()\n",
    "    ],\n",
    "    max_steps=4,\n",
    "    verbosity_level=0,\n",
    "    name=\"web_search_agent\",\n",
    "    planning_interval=2,\n",
    "    description=\"Searches the web with a particular query.\",\n",
    ")"
   ]
  },
  {
   "cell_type": "code",
   "execution_count": 45,
   "id": "3ce9630f",
   "metadata": {},
   "outputs": [],
   "source": [
    "# websearch_agent.run(\"what's multi head latent attention?\")"
   ]
  },
  {
   "cell_type": "code",
   "execution_count": 46,
   "id": "829d4653",
   "metadata": {},
   "outputs": [
    {
     "name": "stderr",
     "output_type": "stream",
     "text": [
      "INFO:wikipediaapi:Wikipedia: language=en, user_agent: WikiAssistant (merlin@example.com) (Wikipedia-API/0.8.1; https://github.com/martin-majlis/Wikipedia-API/), extract_format=1\n"
     ]
    }
   ],
   "source": [
    "wikipedia_agent = ToolCallingAgent(\n",
    "    model=InferenceClientModel(model_id=\"Qwen/Qwen3-30B-A3B\", bill_to=\"VitalNest\", temperature=.1),\n",
    "    tools=[WikipediaSearchTool(user_agent=\"WikiAssistant (merlin@example.com)\"), FinalAnswerTool()],\n",
    "    max_steps=3,\n",
    "    verbosity_level=0,\n",
    "    name=\"wikipedia_agent\",\n",
    "    description=\"Searches Wikipedia for a topic.\",\n",
    ")"
   ]
  },
  {
   "cell_type": "code",
   "execution_count": 51,
   "id": "ce492b6d",
   "metadata": {},
   "outputs": [],
   "source": [
    "manager_agent = CodeAgent(\n",
    "    tools=[FinalAnswerTool()],\n",
    "    additional_authorized_imports=[\"os\"],\n",
    "    model=InferenceClientModel(\n",
    "        model_id=\"Qwen/Qwen3-235B-A22B\",\n",
    "        bill_to=\"VitalNest\",\n",
    "        temperature=0.1,\n",
    "    ),  # \"Qwen/Qwen3-30B-A3B\"\n",
    "    managed_agents=[websearch_agent, wikipedia_agent, insurance_agent],\n",
    "    max_steps=10,\n",
    "    planning_interval=2,\n",
    "    verbosity_level=-1,\n",
    "    add_base_tools=True\n",
    ")"
   ]
  },
  {
   "cell_type": "code",
   "execution_count": 52,
   "id": "c31461ef",
   "metadata": {},
   "outputs": [
    {
     "name": "stderr",
     "output_type": "stream",
     "text": [
      "INFO:primp:response: https://lite.duckduckgo.com/lite/ 200\n",
      "INFO:primp:response: https://html.duckduckgo.com/html 200\n"
     ]
    },
    {
     "data": {
      "text/html": [
       "<pre style=\"white-space:pre;overflow-x:auto;line-height:normal;font-family:Menlo,'DejaVu Sans Mono',consolas,'Courier New',monospace\"><span style=\"color: #800000; text-decoration-color: #800000; font-weight: bold\">Reached max steps.</span>\n",
       "</pre>\n"
      ],
      "text/plain": [
       "\u001b[1;31mReached max steps.\u001b[0m\n"
      ]
     },
     "metadata": {},
     "output_type": "display_data"
    },
    {
     "data": {
      "text/plain": [
       "'Multi-Head Latent Attention (MLA) is an optimization technique for transformer models that reduces memory and computational costs by compressing key-value (KV) states into a lower-dimensional latent space. It achieves significant KV cache reduction (e.g., 93% in DeepSeek models) through low-rank projections of K/V matrices, enabling faster inference and longer context lengths. The mechanism involves: 1) Compressing K/V into latent space via down-projection matrices, 2) Performing attention computation in this compressed space, and 3) Reconstructing outputs using up-projection. This reduces computational complexity from O(L²) to O(L*r) (r = latent dimension), with minimal accuracy loss. Applications include large language models (LLMs) like DeepSeek-V3 (671B parameters) and potential extensions to computer vision and time-series tasks.'"
      ]
     },
     "execution_count": 52,
     "metadata": {},
     "output_type": "execute_result"
    }
   ],
   "source": [
    "query = \"explain multi head latent attention\"\n",
    "# query = \"What critical cancer illnesses are covered in secure 4 in 1 ?\"\n",
    "manager_agent.run(\n",
    "    task=\n",
    "    f\"\"\"\n",
    "    Apart from the instructions that were given to you, FOLLOW the Additional Instructions below:\n",
    "    ```\n",
    "    For any insurance related queries, always use the `insurance_agent` first and return the results.\n",
    "    You are allowed to rephrase any query and detail it if required. When in doubt always ask the user a follow up question.\n",
    "    Don't assume anything.\n",
    "    ```\n",
    "    Here's the query that you need to answer: {query}\n",
    "\"\"\",\n",
    "    # reset=False,\n",
    "    #     \"\"\"Search for `topic`:multi head latent attention in wikipedia.\n",
    "    #                   If there's no information about the same in Wikipedia, search the web\n",
    "    #                   for it and return a summary of the findings along with the search result links.\n",
    "    # \"\"\"\n",
    ")"
   ]
  },
  {
   "cell_type": "code",
   "execution_count": null,
   "id": "b14414ff",
   "metadata": {},
   "outputs": [],
   "source": []
  },
  {
   "cell_type": "code",
   "execution_count": 54,
   "id": "1e231afc",
   "metadata": {},
   "outputs": [
    {
     "ename": "ModuleNotFoundError",
     "evalue": "Please install 'gradio' extra to use the GradioUI: `pip install 'smolagents[gradio]'`",
     "output_type": "error",
     "traceback": [
      "\u001b[31m---------------------------------------------------------------------------\u001b[39m",
      "\u001b[31mModuleNotFoundError\u001b[39m                       Traceback (most recent call last)",
      "\u001b[36mCell\u001b[39m\u001b[36m \u001b[39m\u001b[32mIn[54]\u001b[39m\u001b[32m, line 1\u001b[39m\n\u001b[32m----> \u001b[39m\u001b[32m1\u001b[39m \u001b[43mGradioUI\u001b[49m\u001b[43m(\u001b[49m\u001b[43magent\u001b[49m\u001b[43m=\u001b[49m\u001b[43mmanager_agent\u001b[49m\u001b[43m)\u001b[49m.launch()\n",
      "\u001b[36mFile \u001b[39m\u001b[32m~/insurance_assistants/.venv/lib/python3.12/site-packages/smolagents/gradio_ui.py:287\u001b[39m, in \u001b[36mGradioUI.__init__\u001b[39m\u001b[34m(self, agent, file_upload_folder)\u001b[39m\n\u001b[32m    285\u001b[39m \u001b[38;5;28;01mdef\u001b[39;00m\u001b[38;5;250m \u001b[39m\u001b[34m__init__\u001b[39m(\u001b[38;5;28mself\u001b[39m, agent: MultiStepAgent, file_upload_folder: \u001b[38;5;28mstr\u001b[39m | \u001b[38;5;28;01mNone\u001b[39;00m = \u001b[38;5;28;01mNone\u001b[39;00m):\n\u001b[32m    286\u001b[39m     \u001b[38;5;28;01mif\u001b[39;00m \u001b[38;5;129;01mnot\u001b[39;00m _is_package_available(\u001b[33m\"\u001b[39m\u001b[33mgradio\u001b[39m\u001b[33m\"\u001b[39m):\n\u001b[32m--> \u001b[39m\u001b[32m287\u001b[39m         \u001b[38;5;28;01mraise\u001b[39;00m \u001b[38;5;167;01mModuleNotFoundError\u001b[39;00m(\n\u001b[32m    288\u001b[39m             \u001b[33m\"\u001b[39m\u001b[33mPlease install \u001b[39m\u001b[33m'\u001b[39m\u001b[33mgradio\u001b[39m\u001b[33m'\u001b[39m\u001b[33m extra to use the GradioUI: `pip install \u001b[39m\u001b[33m'\u001b[39m\u001b[33msmolagents[gradio]\u001b[39m\u001b[33m'\u001b[39m\u001b[33m`\u001b[39m\u001b[33m\"\u001b[39m\n\u001b[32m    289\u001b[39m         )\n\u001b[32m    290\u001b[39m     \u001b[38;5;28mself\u001b[39m.agent = agent\n\u001b[32m    291\u001b[39m     \u001b[38;5;28mself\u001b[39m.file_upload_folder = Path(file_upload_folder) \u001b[38;5;28;01mif\u001b[39;00m file_upload_folder \u001b[38;5;129;01mis\u001b[39;00m \u001b[38;5;129;01mnot\u001b[39;00m \u001b[38;5;28;01mNone\u001b[39;00m \u001b[38;5;28;01melse\u001b[39;00m \u001b[38;5;28;01mNone\u001b[39;00m\n",
      "\u001b[31mModuleNotFoundError\u001b[39m: Please install 'gradio' extra to use the GradioUI: `pip install 'smolagents[gradio]'`"
     ]
    }
   ],
   "source": [
    "GradioUI(agent=manager_agent).launch()"
   ]
  },
  {
   "cell_type": "code",
   "execution_count": null,
   "id": "8de71a46",
   "metadata": {},
   "outputs": [],
   "source": []
  },
  {
   "cell_type": "code",
   "execution_count": null,
   "id": "598137d5",
   "metadata": {},
   "outputs": [],
   "source": []
  },
  {
   "cell_type": "code",
   "execution_count": 17,
   "id": "0116b0c2",
   "metadata": {},
   "outputs": [
    {
     "name": "stderr",
     "output_type": "stream",
     "text": [
      "INFO:colpali_engine.utils.torch_utils:Using device: cuda:0\n"
     ]
    },
    {
     "data": {
      "application/vnd.jupyter.widget-view+json": {
       "model_id": "f652b6a6afe94b09b3dcffc69c90d2d4",
       "version_major": 2,
       "version_minor": 0
      },
      "text/plain": [
       "Fetching 2 files:   0%|          | 0/2 [00:00<?, ?it/s]"
      ]
     },
     "metadata": {},
     "output_type": "display_data"
    },
    {
     "data": {
      "application/vnd.jupyter.widget-view+json": {
       "model_id": "955e52957b574cd791060019e13897ac",
       "version_major": 2,
       "version_minor": 0
      },
      "text/plain": [
       "Loading checkpoint shards:   0%|          | 0/2 [00:00<?, ?it/s]"
      ]
     },
     "metadata": {},
     "output_type": "display_data"
    }
   ],
   "source": [
    "from src.insurance_assistants.complex_rag import RAG"
   ]
  },
  {
   "cell_type": "code",
   "execution_count": null,
   "id": "1f9473ec",
   "metadata": {},
   "outputs": [],
   "source": []
  },
  {
   "cell_type": "code",
   "execution_count": 18,
   "id": "297cd8ce",
   "metadata": {},
   "outputs": [],
   "source": [
    "rag_app = RAG()\n",
    "rag_app.vectordb_id = \"policy_wordings\""
   ]
  },
  {
   "cell_type": "code",
   "execution_count": 19,
   "id": "0357d648",
   "metadata": {},
   "outputs": [
    {
     "name": "stderr",
     "output_type": "stream",
     "text": [
      "INFO:src.insurance_assistants.complex_rag:Searching for 1 queries\n",
      "INFO:src.insurance_assistants.complex_rag:Searching for query: what critical illnesses are covered under optima restore?\n",
      "INFO:src.insurance_assistants.complex_rag:Processing 1 texts\n",
      "INFO:src.insurance_assistants.complex_rag:Search result: [(np.float32(17.525904), 376), (np.float32(17.395565), 377), (np.float32(17.221403), 378), (np.float32(16.622517), 346)] for query: what critical illnesses are covered under optima restore?\n",
      "INFO:src.insurance_assistants.complex_rag:✅ Retrieved the images for answering query.\n"
     ]
    }
   ],
   "source": [
    "query = \"what critical illnesses are covered under optima restore?\"\n",
    "res = rag_app.search_documents(query=query)\n"
   ]
  },
  {
   "cell_type": "code",
   "execution_count": null,
   "id": "f5891393",
   "metadata": {},
   "outputs": [],
   "source": []
  },
  {
   "cell_type": "code",
   "execution_count": 1,
   "id": "4c6f5c4c",
   "metadata": {},
   "outputs": [],
   "source": [
    "import torch\n",
    "from PIL import Image\n",
    "from transformers.utils.import_utils import is_flash_attn_2_available\n",
    "\n",
    "from colpali_engine.models import ColQwen2_5, ColQwen2_5_Processor\n"
   ]
  },
  {
   "cell_type": "code",
   "execution_count": null,
   "id": "8ae2026e",
   "metadata": {},
   "outputs": [
    {
     "data": {
      "application/vnd.jupyter.widget-view+json": {
       "model_id": "8ba3965a0962432ea889e6de249c5bda",
       "version_major": 2,
       "version_minor": 0
      },
      "text/plain": [
       "Fetching 2 files:   0%|          | 0/2 [00:00<?, ?it/s]"
      ]
     },
     "metadata": {},
     "output_type": "display_data"
    },
    {
     "data": {
      "application/vnd.jupyter.widget-view+json": {
       "model_id": "8f3e897980b84d238b5cedc58586704f",
       "version_major": 2,
       "version_minor": 0
      },
      "text/plain": [
       "Loading checkpoint shards:   0%|          | 0/2 [00:00<?, ?it/s]"
      ]
     },
     "metadata": {},
     "output_type": "display_data"
    }
   ],
   "source": [
    "\n",
    "model = ColQwen2_5.from_pretrained(\n",
    "    pretrained_model_name_or_path=\"vidore/colqwen2.5-v0.2\",\n",
    "    torch_dtype=torch.bfloat16,\n",
    "    device_map=\"cuda:0\",  # or \"mps\" if on Apple Silicon\n",
    "    attn_implementation=\"flash_attention_2\" if is_flash_attn_2_available() else None,\n",
    ").eval()\n",
    "processor = ColQwen2_5_Processor.from_pretrained(\"vidore/colqwen2.5-v0.2\", use_fast=True)\n"
   ]
  },
  {
   "cell_type": "code",
   "execution_count": 3,
   "id": "fc98854d",
   "metadata": {},
   "outputs": [],
   "source": [
    "\n",
    "# Your inputs\n",
    "images = [\n",
    "    Image.new(\"RGB\", (128, 128), color=\"white\"),\n",
    "    Image.new(\"RGB\", (128, 128), color=\"black\"),\n",
    "]\n",
    "queries = [\n",
    "    \"Is attention really all you need?\",\n",
    "    \"What is the amount of bananas farmed in Salvador?\",\n",
    "]\n",
    "\n",
    "# Process the inputs\n",
    "batch_images = processor.process_images(images).to(model.device)\n",
    "batch_queries = processor.process_queries(queries).to(model.device)\n",
    "\n",
    "# Forward pass\n",
    "with torch.no_grad():\n",
    "    image_embeddings = model(**batch_images)\n",
    "    query_embeddings = model(**batch_queries)\n",
    "\n",
    "scores = processor.score_multi_vector(query_embeddings, image_embeddings)\n"
   ]
  },
  {
   "cell_type": "code",
   "execution_count": null,
   "id": "c4d1ac9c",
   "metadata": {},
   "outputs": [],
   "source": []
  }
 ],
 "metadata": {
  "kernelspec": {
   "display_name": ".venv",
   "language": "python",
   "name": "python3"
  },
  "language_info": {
   "codemirror_mode": {
    "name": "ipython",
    "version": 3
   },
   "file_extension": ".py",
   "mimetype": "text/x-python",
   "name": "python",
   "nbconvert_exporter": "python",
   "pygments_lexer": "ipython3",
   "version": "3.12.10"
  }
 },
 "nbformat": 4,
 "nbformat_minor": 5
}
