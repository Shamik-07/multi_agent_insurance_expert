{
 "cells": [
  {
   "cell_type": "code",
   "execution_count": 1,
   "id": "950e472c",
   "metadata": {},
   "outputs": [],
   "source": [
    "%load_ext autoreload\n",
    "%autoreload 2\n"
   ]
  },
  {
   "cell_type": "code",
   "execution_count": 2,
   "id": "80a43c4a-e36e-438e-a7ef-d6b6ed1e88e2",
   "metadata": {
    "execution": {
     "iopub.execute_input": "2025-05-25T11:36:58.593607Z",
     "iopub.status.busy": "2025-05-25T11:36:58.592363Z",
     "iopub.status.idle": "2025-05-25T11:36:59.409700Z",
     "shell.execute_reply": "2025-05-25T11:36:59.408793Z",
     "shell.execute_reply.started": "2025-05-25T11:36:58.593527Z"
    }
   },
   "outputs": [],
   "source": [
    "from dotenv import load_dotenv, find_dotenv\n",
    "from smolagents import (\n",
    "    CodeAgent,\n",
    "    DuckDuckGoSearchTool,\n",
    "    InferenceClientModel,\n",
    "    VisitWebpageTool,\n",
    "    WikipediaSearchTool,\n",
    "    FinalAnswerTool,\n",
    "    GradioUI,\n",
    "    Tool,\n",
    "    ToolCallingAgent\n",
    ")\n",
    "import sys\n",
    "from pyprojroot import find_root, has_file\n",
    "_ = load_dotenv(find_dotenv())"
   ]
  },
  {
   "cell_type": "code",
   "execution_count": 3,
   "id": "7476ea0c",
   "metadata": {},
   "outputs": [],
   "source": [
    "project_root_dir = find_root(has_file(\"README.md\")).as_posix()\n",
    "sys.path.extend([project_root_dir])\n"
   ]
  },
  {
   "cell_type": "code",
   "execution_count": 4,
   "id": "e3e6e12f",
   "metadata": {},
   "outputs": [],
   "source": [
    "from huggingface_hub import model_info, InferenceClient"
   ]
  },
  {
   "cell_type": "code",
   "execution_count": 5,
   "id": "85cb1982",
   "metadata": {},
   "outputs": [],
   "source": [
    "from PIL import Image\n",
    "from io import BytesIO\n",
    "import base64\n",
    "from pathlib import Path"
   ]
  },
  {
   "cell_type": "code",
   "execution_count": 6,
   "id": "c22296de",
   "metadata": {},
   "outputs": [],
   "source": [
    "client = InferenceClient(\n",
    "    provider=\"hyperbolic\",\n",
    "    bill_to=\"VitalNest\",\n",
    ")\n"
   ]
  },
  {
   "cell_type": "code",
   "execution_count": 2,
   "id": "7cec2069",
   "metadata": {},
   "outputs": [],
   "source": [
    "all_inference_models = !curl -s https://huggingface.co/api/models | jq \".[].id\""
   ]
  },
  {
   "cell_type": "code",
   "execution_count": null,
   "id": "6e1c9797",
   "metadata": {},
   "outputs": [
    {
     "data": {
      "text/plain": [
       "'warm'"
      ]
     },
     "execution_count": 29,
     "metadata": {},
     "output_type": "execute_result"
    }
   ],
   "source": [
    "info = model_info(\"google/gemma-3-27b-it\", expand=\"inference\")\n",
    "info.inference\n"
   ]
  },
  {
   "cell_type": "code",
   "execution_count": 22,
   "id": "2dc107e2",
   "metadata": {},
   "outputs": [],
   "source": [
    "vlm_model = InferenceClientModel(model_id=\"Qwen/Qwen2.5-VL-72B-Instruct\",bill_to=\"VitalNest\",\n",
    "                                 timeout=300,temperature=.1, max_tokens=10000)"
   ]
  },
  {
   "cell_type": "code",
   "execution_count": null,
   "id": "085aa7d4",
   "metadata": {},
   "outputs": [],
   "source": [
    "# def encode_image_to_base64(image_path):\n",
    "#     \"\"\"\n",
    "#     Encodes an image file to a base64 string.\n",
    "\n",
    "#     Args:\n",
    "#         image_path (str): Path to the image file.\n",
    "\n",
    "#     Returns:\n",
    "#         str: Base64 encoded image string.\n",
    "#     \"\"\"\n",
    "#     \"\"\"Encodes a PIL image to a base64 string.\"\"\"\n",
    "#     image = Image.open(image_path)\n",
    "#     buffered = BytesIO()\n",
    "#     image.save(buffered, format=\"PNG\")\n",
    "#     return base64.b64encode(buffered.getvalue()).decode(\"utf-8\")\n"
   ]
  },
  {
   "cell_type": "code",
   "execution_count": null,
   "id": "4f5b9b6d",
   "metadata": {},
   "outputs": [],
   "source": [
    "# # MAXIMUM of 4 images can be sent\n",
    "# img_paths = [\n",
    "#     Path(\n",
    "#         \"../src/pages/optima-restore-revision.pdf/optima-restore-revision.pdf_page_42.png\"\n",
    "#     ),\n",
    "#     Path(\n",
    "#         \"../src/pages/optima-restore-revision.pdf/optima-restore-revision.pdf_page_12.png\"\n",
    "#     ),\n",
    "#     Path(\n",
    "#         \"../src/pages/optima-restore-revision.pdf/optima-restore-revision.pdf_page_1.png\"\n",
    "#     ),\n",
    "#     # Path(\n",
    "#     #     \"../src/pages/optima-restore-revision.pdf/optima-restore-revision.pdf_page_43.png\"\n",
    "#     # ),\n",
    "#     # Path(\n",
    "#     #     \"../src/pages/optima-restore-revision.pdf/optima-restore-revision.pdf_page_44.png\"\n",
    "#     # ),\n",
    "# ]"
   ]
  },
  {
   "cell_type": "code",
   "execution_count": null,
   "id": "73a61942",
   "metadata": {},
   "outputs": [],
   "source": [
    "# # grouped_images = [Image.open(fp=pth) for pth in img_paths]\n",
    "# grouped_images = [encode_image_to_base64(pth) for pth in img_paths]"
   ]
  },
  {
   "cell_type": "code",
   "execution_count": null,
   "id": "0fa8f187",
   "metadata": {},
   "outputs": [],
   "source": [
    "# text_query = \"\"\"what critical illnesses are covered under optima restore?\n",
    "# If the answer isn't in these documents, say you don't know.\"\"\"\n",
    "# chat_template = [\n",
    "#     {\n",
    "# \"role\":\"system\", \"content\":\"\"\"You find answers from the relevant documents. Answer only \n",
    "# from these documents. If answer isn't available return 'Question cannot be answered based\n",
    "# on the documents provided.' \"\"\"\n",
    "#     },\n",
    "#     {\n",
    "#         \"role\": \"user\",\n",
    "#         \"content\": [\n",
    "#             {\n",
    "#                 \"type\": \"image_url\",\n",
    "#                 \"image_url\": {\"url\": f\"data:image/jpeg;base64,{image}\"},\n",
    "#             }\n",
    "#             for image in grouped_images\n",
    "#         ]\n",
    "#         + [{\"type\": \"text\", \"text\": text_query}],\n",
    "#     }\n",
    "# ]\n"
   ]
  },
  {
   "cell_type": "code",
   "execution_count": null,
   "id": "7e6d672b",
   "metadata": {},
   "outputs": [
    {
     "name": "stdout",
     "output_type": "stream",
     "text": [
      "The critical illnesses covered under Optima Restore include Cancer, Open Chest CABG, First Heart Attack, Kidney Failure, Major Organ/Bone Marrow Transplant, Multiple Sclerosis, Permanent Paralysis of Limbs, and Stroke.\n"
     ]
    }
   ],
   "source": [
    "# print(vlm_model.generate(messages=chat_template).content)"
   ]
  },
  {
   "cell_type": "code",
   "execution_count": null,
   "id": "4f0477f4",
   "metadata": {},
   "outputs": [
    {
     "name": "stdout",
     "output_type": "stream",
     "text": [
      "The critical illnesses covered under Optima Restore include Cancer, Open Chest CABG, First Heart Attack, Kidney Failure, Major Organ/Bone Marrow Transplant, Multiple Sclerosis, Permanent Paralysis of Limbs, and Stroke.\n"
     ]
    }
   ],
   "source": [
    "# completion = client.chat.completions.create(\n",
    "#     model=\"Qwen/Qwen2.5-VL-72B-Instruct\",\n",
    "#     messages=chat_template,\n",
    "#     temperature=.1,\n",
    "#     max_tokens=10_000\n",
    "# )\n",
    "\n",
    "# print(completion.choices[0].message.content)\n",
    "\n",
    "# # completion = client.chat.completions.create(\n",
    "# #     model=\"Qwen/Qwen2.5-VL-72B-Instruct\",\n",
    "# #     messages=[\n",
    "# #         {\n",
    "# #             \"role\": \"user\",\n",
    "# #             \"content\": [\n",
    "# #                 {\"type\": \"text\", \"text\": \"Describe the images in one sentence.\"},\n",
    "# #                 {\n",
    "# #                     \"type\": \"image_url\",\n",
    "# #                     \"image_url\": {\n",
    "# #                         \"url\": \"https://cdn.britannica.com/61/93061-050-99147DCE/Statue-of-Liberty-Island-New-York-Bay.jpg\"\n",
    "# #                     },\n",
    "# #                 },\n",
    "# #                 {\n",
    "# #                     \"type\": \"image_url\",\n",
    "# #                     \"image_url\": {\n",
    "# #                         \"url\": \"https://upload.wikimedia.org/wikipedia/commons/3/3d/Nicu%C8%99or_Dan_%288_mai_2025%29.jpg\"\n",
    "# #                     },\n",
    "# #                 },\n",
    "# #             ],\n",
    "# #         }\n",
    "# #     ],\n",
    "# # )\n",
    "\n",
    "# # print(completion.choices[0].message)\n"
   ]
  },
  {
   "cell_type": "code",
   "execution_count": null,
   "id": "59c5b826",
   "metadata": {},
   "outputs": [],
   "source": []
  },
  {
   "cell_type": "code",
   "execution_count": null,
   "id": "537ce44d",
   "metadata": {},
   "outputs": [],
   "source": []
  },
  {
   "cell_type": "code",
   "execution_count": 7,
   "id": "3a5c91b2-c3dc-4a38-8d12-23ebde2324d1",
   "metadata": {
    "execution": {
     "iopub.execute_input": "2025-05-25T11:36:59.411663Z",
     "iopub.status.busy": "2025-05-25T11:36:59.410797Z",
     "iopub.status.idle": "2025-05-25T11:36:59.419560Z",
     "shell.execute_reply": "2025-05-25T11:36:59.418230Z",
     "shell.execute_reply.started": "2025-05-25T11:36:59.411622Z"
    }
   },
   "outputs": [],
   "source": [
    "class InsuranceInfoRetriever(Tool):\n",
    "    name = \"InsuranceInfoRetriever\"\n",
    "    description = \"Retrieves information from insurance documents.\"\n",
    "    inputs = {\n",
    "        \"query\": {\n",
    "            \"type\": \"string\",\n",
    "            \"description\": \"The query to search for.\"\n",
    "        },\n",
    "    }\n",
    "    output_type = \"string\"\n",
    "\n",
    "    def forward(self, query: str) -> str:\n",
    "        client = InferenceClient(\n",
    "            provider=\"hyperbolic\",\n",
    "            bill_to=\"VitalNest\",\n",
    "        )\n",
    "        results = rag_app.search_documents(query)\n",
    "        img_paths = [Path(res[0]) for res in results]\n",
    "\n",
    "        grouped_images = [rag_app.encode_image_to_base64(pth) for pth in img_paths]\n",
    "        chat_template = [\n",
    "            {\n",
    "        \"role\":\"system\", \"content\":\"\"\"You find answers from the relevant documents. Answer only \n",
    "        from these documents. If answer isn't available return 'Question cannot be answered based\n",
    "        on the documents provided.' \"\"\"\n",
    "            },\n",
    "            {\n",
    "                \"role\": \"user\",\n",
    "                \"content\": [\n",
    "                    {\n",
    "                        \"type\": \"image_url\",\n",
    "                        \"image_url\": {\"url\": f\"data:image/jpeg;base64,{image}\"},\n",
    "                    }\n",
    "                    for image in grouped_images\n",
    "                ]\n",
    "                + [{\"type\": \"text\", \"text\": query}],\n",
    "            }\n",
    "        ]\n",
    "        completion = client.chat.completions.create(\n",
    "            model=\"Qwen/Qwen2.5-VL-72B-Instruct\",\n",
    "            messages=chat_template,\n",
    "            temperature=0.1,\n",
    "            max_tokens=10_000,\n",
    "        )\n",
    "        answer = completion.choices[0].message.content\n",
    "        if answer:\n",
    "            answer += f\"The information was retrived from the following documents: {img_paths}\"\n",
    "        return answer if answer else \"\"\n",
    "\n",
    "# class SaveContent(Tool):\n",
    "#     name = \"SaveContent\"\n",
    "#     description = \"Saves content to a file.\"\n",
    "#     inputs = {\n",
    "#         \"content\": {\n",
    "#             \"type\": \"string\",\n",
    "#             \"description\": \"The content to save.\"\n",
    "#         },\n",
    "#         \"filename\": {\n",
    "#             \"type\": \"string\",\n",
    "#             \"description\": \"The filename.\"\n",
    "#         }\n",
    "#     }\n",
    "#     output_type = \"string\"\n",
    "\n",
    "#     def forward(self, content: str, filename: str ):\n",
    "#         with open(filename, \"w\") as f:\n",
    "#             f.write(content)\n",
    "#         return f\"Content saved to {filename}\"\n",
    "\n"
   ]
  },
  {
   "cell_type": "code",
   "execution_count": 29,
   "id": "ff33cbf4-7ff8-4788-b595-9d73cbf1a2e8",
   "metadata": {
    "execution": {
     "iopub.execute_input": "2025-05-25T11:23:00.453929Z",
     "iopub.status.busy": "2025-05-25T11:23:00.452390Z",
     "iopub.status.idle": "2025-05-25T11:23:00.521867Z",
     "shell.execute_reply": "2025-05-25T11:23:00.520382Z",
     "shell.execute_reply.started": "2025-05-25T11:23:00.453816Z"
    },
    "scrolled": true
   },
   "outputs": [],
   "source": [
    "insurance_agent = CodeAgent(\n",
    "    tools=[InsuranceInfoRetriever(), FinalAnswerTool()],\n",
    "    model=InferenceClientModel(bill_to=\"VitalNest\", temperature=0.1),\n",
    "    additional_authorized_imports=[\"os\", \"requests\", \"bs4\", \"pil\", \"base64\", \"io\"],\n",
    "    max_steps=1,\n",
    "    # planning_interval=2,\n",
    "    verbosity_level=0,\n",
    "    name=\"insurance_agent\",\n",
    "    description=\"You answer health insurance questions based on the InsuranceInfoRetriever \" \\\n",
    "    \"tool. All health insurance questions must be answered by you.\",\n",
    ")"
   ]
  },
  {
   "cell_type": "code",
   "execution_count": 9,
   "id": "2e63367b-8496-44d6-981e-242733f59450",
   "metadata": {
    "execution": {
     "iopub.execute_input": "2025-05-25T11:23:01.188679Z",
     "iopub.status.busy": "2025-05-25T11:23:01.186566Z",
     "iopub.status.idle": "2025-05-25T11:24:33.318639Z",
     "shell.execute_reply": "2025-05-25T11:24:33.316639Z",
     "shell.execute_reply.started": "2025-05-25T11:23:01.188593Z"
    },
    "scrolled": true
   },
   "outputs": [],
   "source": [
    "# query = \"what critical illnesses are covered under secure 4 in 1?\"\n",
    "# # search_res = [\n",
    "# #     (\n",
    "# #         \"../src/pages/optima-restore-revision.pdf/optima-restore-revision.pdf_page_42.png\"\n",
    "# #     ),\n",
    "# #     (\n",
    "# #         \"../src/pages/optima-restore-revision.pdf/optima-restore-revision.pdf_page_12.png\"\n",
    "# #     ),\n",
    "# #     (\n",
    "# #         \"../src/pages/optima-restore-revision.pdf/optima-restore-revision.pdf_page_1.png\"\n",
    "# #     ),\n",
    "# # ]\n",
    "# insurance_agent.run(task=query\n",
    "#                     # f\"\"\"\n",
    "# # For the insurance search results below, answer the following query:{query}.\n",
    "# # \"\"\"\n",
    "# )"
   ]
  },
  {
   "cell_type": "code",
   "execution_count": null,
   "id": "ccffb075",
   "metadata": {},
   "outputs": [],
   "source": []
  },
  {
   "cell_type": "code",
   "execution_count": 10,
   "id": "0a0c36c9",
   "metadata": {},
   "outputs": [],
   "source": [
    "websearch_agent = ToolCallingAgent(\n",
    "    model=InferenceClientModel(\n",
    "        model_id=\"Qwen/Qwen3-30B-A3B\", bill_to=\"VitalNest\", temperature=0.1\n",
    "    ),\n",
    "    tools=[\n",
    "        VisitWebpageTool(max_output_length=20_000),\n",
    "        DuckDuckGoSearchTool(max_results=5),\n",
    "        FinalAnswerTool()\n",
    "    ],\n",
    "    max_steps=4,\n",
    "    verbosity_level=0,\n",
    "    name=\"web_search_agent\",\n",
    "    planning_interval=2,\n",
    "    description=\"Searches the web with a particular query.\",\n",
    ")"
   ]
  },
  {
   "cell_type": "code",
   "execution_count": 11,
   "id": "3ce9630f",
   "metadata": {},
   "outputs": [],
   "source": [
    "# websearch_agent.run(\"what's multi head latent attention?\")"
   ]
  },
  {
   "cell_type": "code",
   "execution_count": 12,
   "id": "829d4653",
   "metadata": {},
   "outputs": [],
   "source": [
    "wikipedia_agent = ToolCallingAgent(\n",
    "    model=InferenceClientModel(model_id=\"Qwen/Qwen3-30B-A3B\", bill_to=\"VitalNest\", temperature=.1),\n",
    "    tools=[WikipediaSearchTool(user_agent=\"WikiAssistant (merlin@example.com)\"), FinalAnswerTool()],\n",
    "    max_steps=3,\n",
    "    verbosity_level=0,\n",
    "    name=\"wikipedia_agent\",\n",
    "    description=\"Searches Wikipedia for a topic.\",\n",
    ")"
   ]
  },
  {
   "cell_type": "code",
   "execution_count": 30,
   "id": "ce492b6d",
   "metadata": {},
   "outputs": [],
   "source": [
    "manager_agent = CodeAgent(\n",
    "    tools=[FinalAnswerTool()],\n",
    "    additional_authorized_imports=[\"os\"],\n",
    "    model=InferenceClientModel(\n",
    "        model_id=\"Qwen/Qwen3-235B-A22B\",\n",
    "        bill_to=\"VitalNest\",\n",
    "        temperature=0.1,\n",
    "    ),  # \"Qwen/Qwen3-30B-A3B\"\n",
    "    managed_agents=[websearch_agent, wikipedia_agent, insurance_agent],\n",
    "    max_steps=10,\n",
    "    planning_interval=2,\n",
    "    verbosity_level=-1,\n",
    "    add_base_tools=True,\n",
    "    name=\"Versatile_Multi_Agent\",\n",
    "    description=\"Answer health insurance related questions from pre-defined set of \" \\\n",
    "    \"health insurance documents, search wikipedia and the web for general information.\" \n",
    ")"
   ]
  },
  {
   "cell_type": "code",
   "execution_count": null,
   "id": "a5493bf2",
   "metadata": {},
   "outputs": [],
   "source": []
  },
  {
   "cell_type": "code",
   "execution_count": null,
   "id": "333bcd23",
   "metadata": {},
   "outputs": [],
   "source": []
  },
  {
   "cell_type": "code",
   "execution_count": null,
   "id": "c31461ef",
   "metadata": {},
   "outputs": [],
   "source": [
    "query = \"explain multi head latent attention\"\n",
    "# query = \"What critical cancer illnesses are covered in secure 4 in 1 ?\"\n",
    "manager_agent.run(\n",
    "    task=\n",
    "    f\"\"\"\n",
    "    Apart from the instructions that we given to you, FOLLOW the Additional Instructions below:\n",
    "    ```\n",
    "    For any insurance related queries, always use the `insurance_agent` first and return the results.\n",
    "    You are allowed to rephrase any query and detail it if required. When in doubt always ask the user a follow up question.\n",
    "    Don't assume anything.\n",
    "    ```\n",
    "    Here's the query that you need to answer: {query}\n",
    "\"\"\",\n",
    "    # reset=False,\n",
    "    #     \"\"\"Search for `topic`:multi head latent attention in wikipedia.\n",
    "    #                   If there's no information about the same in Wikipedia, search the web\n",
    "    #                   for it and return a summary of the findings along with the search result links.\n",
    "    # \"\"\"\n",
    ")"
   ]
  },
  {
   "cell_type": "code",
   "execution_count": null,
   "id": "b14414ff",
   "metadata": {},
   "outputs": [],
   "source": []
  },
  {
   "cell_type": "code",
   "execution_count": null,
   "id": "276ddf02",
   "metadata": {},
   "outputs": [],
   "source": []
  },
  {
   "cell_type": "code",
   "execution_count": null,
   "id": "1e231afc",
   "metadata": {},
   "outputs": [],
   "source": [
    "GradioUI(agent=manager_agent).launch(share=False)"
   ]
  },
  {
   "cell_type": "code",
   "execution_count": null,
   "id": "8de71a46",
   "metadata": {},
   "outputs": [],
   "source": []
  },
  {
   "cell_type": "code",
   "execution_count": null,
   "id": "598137d5",
   "metadata": {},
   "outputs": [],
   "source": []
  },
  {
   "cell_type": "code",
   "execution_count": 15,
   "id": "0116b0c2",
   "metadata": {},
   "outputs": [
    {
     "name": "stderr",
     "output_type": "stream",
     "text": [
      "INFO:colpali_engine.utils.torch_utils:Using device: cuda:0\n"
     ]
    },
    {
     "data": {
      "application/vnd.jupyter.widget-view+json": {
       "model_id": "a86957efc13f4b0a9b4a4d622b535a75",
       "version_major": 2,
       "version_minor": 0
      },
      "text/plain": [
       "Fetching 2 files:   0%|          | 0/2 [00:00<?, ?it/s]"
      ]
     },
     "metadata": {},
     "output_type": "display_data"
    },
    {
     "data": {
      "application/vnd.jupyter.widget-view+json": {
       "model_id": "787d5f39766342248b9d9c89ede864ab",
       "version_major": 2,
       "version_minor": 0
      },
      "text/plain": [
       "Loading checkpoint shards:   0%|          | 0/2 [00:00<?, ?it/s]"
      ]
     },
     "metadata": {},
     "output_type": "display_data"
    }
   ],
   "source": [
    "from src.insurance_assistants.complex_rag import RAG"
   ]
  },
  {
   "cell_type": "code",
   "execution_count": null,
   "id": "1f9473ec",
   "metadata": {},
   "outputs": [],
   "source": []
  },
  {
   "cell_type": "code",
   "execution_count": 16,
   "id": "297cd8ce",
   "metadata": {},
   "outputs": [],
   "source": [
    "rag_app = RAG()\n",
    "rag_app.vectordb_id = \"policy_wordings\""
   ]
  },
  {
   "cell_type": "code",
   "execution_count": 19,
   "id": "0357d648",
   "metadata": {},
   "outputs": [
    {
     "name": "stderr",
     "output_type": "stream",
     "text": [
      "INFO:src.insurance_assistants.complex_rag:Searching for 1 queries\n",
      "INFO:src.insurance_assistants.complex_rag:Searching for query: what critical illnesses are covered under optima restore?\n",
      "INFO:src.insurance_assistants.complex_rag:Processing 1 texts\n",
      "INFO:src.insurance_assistants.complex_rag:Search result: [(np.float32(17.525904), 376), (np.float32(17.395565), 377), (np.float32(17.221403), 378), (np.float32(16.622517), 346)] for query: what critical illnesses are covered under optima restore?\n",
      "INFO:src.insurance_assistants.complex_rag:✅ Retrieved the images for answering query.\n"
     ]
    }
   ],
   "source": [
    "query = \"what critical illnesses are covered under optima restore?\"\n",
    "res = rag_app.search_documents(query=query)\n"
   ]
  },
  {
   "cell_type": "code",
   "execution_count": null,
   "id": "f5891393",
   "metadata": {},
   "outputs": [],
   "source": []
  },
  {
   "cell_type": "code",
   "execution_count": 1,
   "id": "4c6f5c4c",
   "metadata": {},
   "outputs": [],
   "source": [
    "import torch\n",
    "from PIL import Image\n",
    "from transformers.utils.import_utils import is_flash_attn_2_available\n",
    "\n",
    "from colpali_engine.models import ColQwen2_5, ColQwen2_5_Processor\n"
   ]
  },
  {
   "cell_type": "code",
   "execution_count": null,
   "id": "8ae2026e",
   "metadata": {},
   "outputs": [
    {
     "data": {
      "application/vnd.jupyter.widget-view+json": {
       "model_id": "8ba3965a0962432ea889e6de249c5bda",
       "version_major": 2,
       "version_minor": 0
      },
      "text/plain": [
       "Fetching 2 files:   0%|          | 0/2 [00:00<?, ?it/s]"
      ]
     },
     "metadata": {},
     "output_type": "display_data"
    },
    {
     "data": {
      "application/vnd.jupyter.widget-view+json": {
       "model_id": "8f3e897980b84d238b5cedc58586704f",
       "version_major": 2,
       "version_minor": 0
      },
      "text/plain": [
       "Loading checkpoint shards:   0%|          | 0/2 [00:00<?, ?it/s]"
      ]
     },
     "metadata": {},
     "output_type": "display_data"
    }
   ],
   "source": [
    "\n",
    "model = ColQwen2_5.from_pretrained(\n",
    "    pretrained_model_name_or_path=\"vidore/colqwen2.5-v0.2\",\n",
    "    torch_dtype=torch.bfloat16,\n",
    "    device_map=\"cuda:0\",  # or \"mps\" if on Apple Silicon\n",
    "    attn_implementation=\"flash_attention_2\" if is_flash_attn_2_available() else None,\n",
    ").eval()\n",
    "processor = ColQwen2_5_Processor.from_pretrained(\"vidore/colqwen2.5-v0.2\", use_fast=True)\n"
   ]
  },
  {
   "cell_type": "code",
   "execution_count": 3,
   "id": "fc98854d",
   "metadata": {},
   "outputs": [],
   "source": [
    "\n",
    "# Your inputs\n",
    "images = [\n",
    "    Image.new(\"RGB\", (128, 128), color=\"white\"),\n",
    "    Image.new(\"RGB\", (128, 128), color=\"black\"),\n",
    "]\n",
    "queries = [\n",
    "    \"Is attention really all you need?\",\n",
    "    \"What is the amount of bananas farmed in Salvador?\",\n",
    "]\n",
    "\n",
    "# Process the inputs\n",
    "batch_images = processor.process_images(images).to(model.device)\n",
    "batch_queries = processor.process_queries(queries).to(model.device)\n",
    "\n",
    "# Forward pass\n",
    "with torch.no_grad():\n",
    "    image_embeddings = model(**batch_images)\n",
    "    query_embeddings = model(**batch_queries)\n",
    "\n",
    "scores = processor.score_multi_vector(query_embeddings, image_embeddings)\n"
   ]
  },
  {
   "cell_type": "code",
   "execution_count": null,
   "id": "c4d1ac9c",
   "metadata": {},
   "outputs": [],
   "source": []
  }
 ],
 "metadata": {
  "kernelspec": {
   "display_name": ".venv",
   "language": "python",
   "name": "python3"
  },
  "language_info": {
   "codemirror_mode": {
    "name": "ipython",
    "version": 3
   },
   "file_extension": ".py",
   "mimetype": "text/x-python",
   "name": "python",
   "nbconvert_exporter": "python",
   "pygments_lexer": "ipython3",
   "version": "3.12.10"
  }
 },
 "nbformat": 4,
 "nbformat_minor": 5
}
