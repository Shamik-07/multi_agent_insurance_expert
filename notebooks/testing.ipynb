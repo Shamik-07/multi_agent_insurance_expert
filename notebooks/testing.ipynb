{
 "cells": [
  {
   "cell_type": "code",
   "execution_count": 21,
   "id": "80a43c4a-e36e-438e-a7ef-d6b6ed1e88e2",
   "metadata": {
    "execution": {
     "iopub.execute_input": "2025-05-25T11:36:58.593607Z",
     "iopub.status.busy": "2025-05-25T11:36:58.592363Z",
     "iopub.status.idle": "2025-05-25T11:36:59.409700Z",
     "shell.execute_reply": "2025-05-25T11:36:59.408793Z",
     "shell.execute_reply.started": "2025-05-25T11:36:58.593527Z"
    }
   },
   "outputs": [],
   "source": [
    "from dotenv import load_dotenv, find_dotenv\n",
    "from smolagents import (\n",
    "    CodeAgent,\n",
    "    DuckDuckGoSearchTool,\n",
    "    InferenceClientModel,\n",
    "    VisitWebpageTool,\n",
    "    WikipediaSearchTool,\n",
    "    FinalAnswerTool,\n",
    "    PythonInterpreterTool,\n",
    "    Tool,\n",
    ")\n",
    "# import nest_asyncio\n",
    "\n",
    "# nest_asyncio.apply()\n",
    "\n",
    "_ = load_dotenv(find_dotenv())"
   ]
  },
  {
   "cell_type": "code",
   "execution_count": null,
   "id": "e3e6e12f",
   "metadata": {},
   "outputs": [],
   "source": [
    "from huggingface_hub import model_info, InferenceClient"
   ]
  },
  {
   "cell_type": "code",
   "execution_count": 29,
   "id": "85cb1982",
   "metadata": {},
   "outputs": [],
   "source": [
    "from PIL import Image\n",
    "from io import BytesIO\n",
    "import base64\n",
    "from pathlib import Path"
   ]
  },
  {
   "cell_type": "code",
   "execution_count": null,
   "id": "c22296de",
   "metadata": {},
   "outputs": [],
   "source": [
    "client = InferenceClient(\n",
    "    provider=\"hyperbolic\",\n",
    "    bill_to=\"VitalNest\",\n",
    ")\n"
   ]
  },
  {
   "cell_type": "code",
   "execution_count": 2,
   "id": "7cec2069",
   "metadata": {},
   "outputs": [],
   "source": [
    "all_inference_models = !curl -s https://huggingface.co/api/models | jq \".[].id\""
   ]
  },
  {
   "cell_type": "code",
   "execution_count": 29,
   "id": "6e1c9797",
   "metadata": {},
   "outputs": [
    {
     "data": {
      "text/plain": [
       "'warm'"
      ]
     },
     "execution_count": 29,
     "metadata": {},
     "output_type": "execute_result"
    }
   ],
   "source": [
    "\n",
    "info = model_info(\"google/gemma-3-27b-it\", expand=\"inference\")\n",
    "info.inference\n"
   ]
  },
  {
   "cell_type": "code",
   "execution_count": 22,
   "id": "2dc107e2",
   "metadata": {},
   "outputs": [],
   "source": [
    "vlm_model = InferenceClientModel(model_id=\"Qwen/Qwen2.5-VL-72B-Instruct\",bill_to=\"VitalNest\",\n",
    "                                 timeout=300,temperature=.1, max_tokens=10000)"
   ]
  },
  {
   "cell_type": "code",
   "execution_count": 2,
   "id": "085aa7d4",
   "metadata": {},
   "outputs": [],
   "source": [
    "def encode_image_to_base64(image_path):\n",
    "    \"\"\"\n",
    "    Encodes an image file to a base64 string.\n",
    "\n",
    "    Args:\n",
    "        image_path (str): Path to the image file.\n",
    "\n",
    "    Returns:\n",
    "        str: Base64 encoded image string.\n",
    "    \"\"\"\n",
    "    \"\"\"Encodes a PIL image to a base64 string.\"\"\"\n",
    "    image = Image.open(image_path)\n",
    "    buffered = BytesIO()\n",
    "    image.save(buffered, format=\"PNG\")\n",
    "    return base64.b64encode(buffered.getvalue()).decode(\"utf-8\")\n"
   ]
  },
  {
   "cell_type": "code",
   "execution_count": 36,
   "id": "4f5b9b6d",
   "metadata": {},
   "outputs": [],
   "source": [
    "# MAXIMUM of 4 images can be sent\n",
    "img_paths = [\n",
    "    Path(\n",
    "        \"../src/pages/optima-restore-revision.pdf/optima-restore-revision.pdf_page_42.png\"\n",
    "    ),\n",
    "    Path(\n",
    "        \"../src/pages/optima-restore-revision.pdf/optima-restore-revision.pdf_page_12.png\"\n",
    "    ),\n",
    "    Path(\n",
    "        \"../src/pages/optima-restore-revision.pdf/optima-restore-revision.pdf_page_1.png\"\n",
    "    ),\n",
    "    # Path(\n",
    "    #     \"../src/pages/optima-restore-revision.pdf/optima-restore-revision.pdf_page_43.png\"\n",
    "    # ),\n",
    "    # Path(\n",
    "    #     \"../src/pages/optima-restore-revision.pdf/optima-restore-revision.pdf_page_44.png\"\n",
    "    # ),\n",
    "]"
   ]
  },
  {
   "cell_type": "code",
   "execution_count": 37,
   "id": "73a61942",
   "metadata": {},
   "outputs": [],
   "source": [
    "# grouped_images = [Image.open(fp=pth) for pth in img_paths]\n",
    "grouped_images = [encode_image_to_base64(pth) for pth in img_paths]"
   ]
  },
  {
   "cell_type": "code",
   "execution_count": 38,
   "id": "0fa8f187",
   "metadata": {},
   "outputs": [],
   "source": [
    "text_query = \"\"\"what critical illnesses are covered under optima restore?\n",
    "If the answer isn't in these documents, say you don't know.\"\"\"\n",
    "chat_template = [\n",
    "    {\n",
    "\"role\":\"system\", \"content\":\"\"\"You find answers from the relevant documents. Answer only \n",
    "from these documents. If answer isn't available return 'Question cannot be answered based\n",
    "on the documents provided.' \"\"\"\n",
    "    },\n",
    "    {\n",
    "        \"role\": \"user\",\n",
    "        \"content\": [\n",
    "            {\n",
    "                \"type\": \"image_url\",\n",
    "                \"image_url\": {\"url\": f\"data:image/jpeg;base64,{image}\"},\n",
    "            }\n",
    "            for image in grouped_images\n",
    "        ]\n",
    "        + [{\"type\": \"text\", \"text\": text_query}],\n",
    "    }\n",
    "]\n"
   ]
  },
  {
   "cell_type": "code",
   "execution_count": 39,
   "id": "7e6d672b",
   "metadata": {},
   "outputs": [
    {
     "name": "stdout",
     "output_type": "stream",
     "text": [
      "The critical illnesses covered under Optima Restore include Cancer, Open Chest CABG, First Heart Attack, Kidney Failure, Major Organ/Bone Marrow Transplant, Multiple Sclerosis, Permanent Paralysis of Limbs, and Stroke.\n"
     ]
    }
   ],
   "source": [
    "print(vlm_model.generate(messages=chat_template).content)"
   ]
  },
  {
   "cell_type": "code",
   "execution_count": 41,
   "id": "4f0477f4",
   "metadata": {},
   "outputs": [
    {
     "name": "stdout",
     "output_type": "stream",
     "text": [
      "The critical illnesses covered under Optima Restore include Cancer, Open Chest CABG, First Heart Attack, Kidney Failure, Major Organ/Bone Marrow Transplant, Multiple Sclerosis, Permanent Paralysis of Limbs, and Stroke.\n"
     ]
    }
   ],
   "source": [
    "completion = client.chat.completions.create(\n",
    "    model=\"Qwen/Qwen2.5-VL-72B-Instruct\",\n",
    "    messages=chat_template,\n",
    "    temperature=.1,\n",
    "    max_tokens=10_000\n",
    ")\n",
    "\n",
    "print(completion.choices[0].message.content)\n",
    "\n",
    "# completion = client.chat.completions.create(\n",
    "#     model=\"Qwen/Qwen2.5-VL-72B-Instruct\",\n",
    "#     messages=[\n",
    "#         {\n",
    "#             \"role\": \"user\",\n",
    "#             \"content\": [\n",
    "#                 {\"type\": \"text\", \"text\": \"Describe the images in one sentence.\"},\n",
    "#                 {\n",
    "#                     \"type\": \"image_url\",\n",
    "#                     \"image_url\": {\n",
    "#                         \"url\": \"https://cdn.britannica.com/61/93061-050-99147DCE/Statue-of-Liberty-Island-New-York-Bay.jpg\"\n",
    "#                     },\n",
    "#                 },\n",
    "#                 {\n",
    "#                     \"type\": \"image_url\",\n",
    "#                     \"image_url\": {\n",
    "#                         \"url\": \"https://upload.wikimedia.org/wikipedia/commons/3/3d/Nicu%C8%99or_Dan_%288_mai_2025%29.jpg\"\n",
    "#                     },\n",
    "#                 },\n",
    "#             ],\n",
    "#         }\n",
    "#     ],\n",
    "# )\n",
    "\n",
    "# print(completion.choices[0].message)\n"
   ]
  },
  {
   "cell_type": "code",
   "execution_count": null,
   "id": "59c5b826",
   "metadata": {},
   "outputs": [],
   "source": []
  },
  {
   "cell_type": "code",
   "execution_count": null,
   "id": "537ce44d",
   "metadata": {},
   "outputs": [],
   "source": []
  },
  {
   "cell_type": "code",
   "execution_count": 24,
   "id": "3a5c91b2-c3dc-4a38-8d12-23ebde2324d1",
   "metadata": {
    "execution": {
     "iopub.execute_input": "2025-05-25T11:36:59.411663Z",
     "iopub.status.busy": "2025-05-25T11:36:59.410797Z",
     "iopub.status.idle": "2025-05-25T11:36:59.419560Z",
     "shell.execute_reply": "2025-05-25T11:36:59.418230Z",
     "shell.execute_reply.started": "2025-05-25T11:36:59.411622Z"
    }
   },
   "outputs": [],
   "source": [
    "class InsuranceInfoRetriever(Tool):\n",
    "    name = \"InsuranceInfoRetriever\"\n",
    "    description = \"Retrieves information from insurance documents.\"\n",
    "    inputs = {\n",
    "        \"query\": {\n",
    "            \"type\": \"string\",\n",
    "            \"description\": \"The query to search for.\"\n",
    "        },\n",
    "        \"search_res\": {\n",
    "            \"type\": \"string\",\n",
    "            \"description\": \"Insurance document search results.\"\n",
    "        },\n",
    "        \"answer\": {\n",
    "            \"type\": \"string\",\n",
    "            \"description\": \"Answer to the query.\"\n",
    "        }\n",
    "    }\n",
    "    output_type = \"string\"\n",
    "\n",
    "    def forward(self, query: str, search_res:list[str],answer: str ) -> str:\n",
    "        def encode_image_to_base64(image_path):\n",
    "            \"\"\"\n",
    "            Encodes an image file to a base64 string.\n",
    "\n",
    "            Args:\n",
    "                image_path (str): Path to the image file.\n",
    "\n",
    "            Returns:\n",
    "                str: Base64 encoded image string.\n",
    "            \"\"\"\n",
    "            \"\"\"Encodes a PIL image to a base64 string.\"\"\"\n",
    "            image = Image.open(image_path)\n",
    "            buffered = BytesIO()\n",
    "            image.save(buffered, format=\"PNG\")\n",
    "            return base64.b64encode(buffered.getvalue()).decode(\"utf-8\")\n",
    "        img_paths = [Path(res) for res in search_res]\n",
    "        client = InferenceClient(\n",
    "            provider=\"hyperbolic\",\n",
    "            bill_to=\"VitalNest\",\n",
    "        )\n",
    "        grouped_images = [encode_image_to_base64(pth) for pth in img_paths]\n",
    "        chat_template = [\n",
    "            {\n",
    "        \"role\":\"system\", \"content\":\"\"\"You find answers from the relevant documents. Answer only \n",
    "        from these documents. If answer isn't available return 'Question cannot be answered based\n",
    "        on the documents provided.' \"\"\"\n",
    "            },\n",
    "            {\n",
    "                \"role\": \"user\",\n",
    "                \"content\": [\n",
    "                    {\n",
    "                        \"type\": \"image_url\",\n",
    "                        \"image_url\": {\"url\": f\"data:image/jpeg;base64,{image}\"},\n",
    "                    }\n",
    "                    for image in grouped_images\n",
    "                ]\n",
    "                + [{\"type\": \"text\", \"text\": query}],\n",
    "            }\n",
    "        ]\n",
    "        completion = client.chat.completions.create(\n",
    "            model=\"Qwen/Qwen2.5-VL-72B-Instruct\",\n",
    "            messages=chat_template,\n",
    "            temperature=0.1,\n",
    "            max_tokens=10_000,\n",
    "        )\n",
    "        answer = completion.choices[0].message.content\n",
    "        return answer if answer else \"\"\n",
    "\n",
    "# class SaveContent(Tool):\n",
    "#     name = \"SaveContent\"\n",
    "#     description = \"Saves content to a file.\"\n",
    "#     inputs = {\n",
    "#         \"content\": {\n",
    "#             \"type\": \"string\",\n",
    "#             \"description\": \"The content to save.\"\n",
    "#         },\n",
    "#         \"filename\": {\n",
    "#             \"type\": \"string\",\n",
    "#             \"description\": \"The filename.\"\n",
    "#         }\n",
    "#     }\n",
    "#     output_type = \"string\"\n",
    "\n",
    "#     def forward(self, content: str, filename: str ):\n",
    "#         with open(filename, \"w\") as f:\n",
    "#             f.write(content)\n",
    "#         return f\"Content saved to {filename}\"\n",
    "\n"
   ]
  },
  {
   "cell_type": "code",
   "execution_count": 30,
   "id": "ff33cbf4-7ff8-4788-b595-9d73cbf1a2e8",
   "metadata": {
    "execution": {
     "iopub.execute_input": "2025-05-25T11:23:00.453929Z",
     "iopub.status.busy": "2025-05-25T11:23:00.452390Z",
     "iopub.status.idle": "2025-05-25T11:23:00.521867Z",
     "shell.execute_reply": "2025-05-25T11:23:00.520382Z",
     "shell.execute_reply.started": "2025-05-25T11:23:00.453816Z"
    },
    "scrolled": true
   },
   "outputs": [],
   "source": [
    "insurance_agent = CodeAgent(tools=[InsuranceInfoRetriever(), \n",
    "                         PythonInterpreterTool(), FinalAnswerTool()], \n",
    "                  model=InferenceClientModel(bill_to=\"VitalNest\"),\n",
    "                  additional_authorized_imports=[\"os\", \"requests\", \"bs4\", \"pil\", \"base64\", \"io\"],\n",
    "                 max_steps=4, planning_interval=2, verbosity_level=0,\n",
    "                 name=\"insurance_agent\", \n",
    "                 description=\"You answer insurance questions based on the search results provided to you.\"\n",
    "                 )"
   ]
  },
  {
   "cell_type": "code",
   "execution_count": null,
   "id": "2e63367b-8496-44d6-981e-242733f59450",
   "metadata": {
    "execution": {
     "iopub.execute_input": "2025-05-25T11:23:01.188679Z",
     "iopub.status.busy": "2025-05-25T11:23:01.186566Z",
     "iopub.status.idle": "2025-05-25T11:24:33.318639Z",
     "shell.execute_reply": "2025-05-25T11:24:33.316639Z",
     "shell.execute_reply.started": "2025-05-25T11:23:01.188593Z"
    },
    "scrolled": true
   },
   "outputs": [
    {
     "data": {
      "text/plain": [
       "['Cancer',\n",
       " 'Open Chest CABG',\n",
       " 'First Heart Attack',\n",
       " 'Kidney Failure',\n",
       " 'Major Organ/Bone Marrow Transplant',\n",
       " 'Multiple Sclerosis',\n",
       " 'Permanent Paralysis of Limbs',\n",
       " 'Stroke']"
      ]
     },
     "execution_count": 31,
     "metadata": {},
     "output_type": "execute_result"
    }
   ],
   "source": [
    "query = \"what critical illnesses are covered under optima restore?\"\n",
    "search_res = [\n",
    "    (\n",
    "        \"../src/pages/optima-restore-revision.pdf/optima-restore-revision.pdf_page_42.png\"\n",
    "    ),\n",
    "    (\n",
    "        \"../src/pages/optima-restore-revision.pdf/optima-restore-revision.pdf_page_12.png\"\n",
    "    ),\n",
    "    (\n",
    "        \"../src/pages/optima-restore-revision.pdf/optima-restore-revision.pdf_page_1.png\"\n",
    "    ),\n",
    "]\n",
    "insurance_agent.run(task=f\"\"\"\n",
    "For the insurance search results below, answer the following query:{query}.\n",
    "search_res: {search_res}\n",
    "\"\"\")"
   ]
  },
  {
   "cell_type": "code",
   "execution_count": null,
   "id": "ccffb075",
   "metadata": {},
   "outputs": [],
   "source": []
  },
  {
   "cell_type": "code",
   "execution_count": 2,
   "id": "72d2e567",
   "metadata": {},
   "outputs": [],
   "source": [
    "from smolagents import ToolCallingAgent"
   ]
  },
  {
   "cell_type": "code",
   "execution_count": 9,
   "id": "0a0c36c9",
   "metadata": {},
   "outputs": [],
   "source": [
    "websearch_agent = ToolCallingAgent(\n",
    "    model=InferenceClientModel(\n",
    "        model_id=\"Qwen/Qwen3-30B-A3B\", bill_to=\"VitalNest\", temperature=0.1\n",
    "    ),\n",
    "    tools=[\n",
    "        VisitWebpageTool(max_output_length=20_000),\n",
    "        DuckDuckGoSearchTool(max_results=5),\n",
    "    ],\n",
    "    max_steps=4,\n",
    "    verbosity_level=0,\n",
    "    name=\"web_search_agent\",\n",
    "    planning_interval=2,\n",
    "    description=\"Searches the web with a particular query.\",\n",
    ")"
   ]
  },
  {
   "cell_type": "code",
   "execution_count": null,
   "id": "3ce9630f",
   "metadata": {},
   "outputs": [],
   "source": [
    "# websearch_agent.run(\"what's multi head latent attention?\")"
   ]
  },
  {
   "cell_type": "code",
   "execution_count": 11,
   "id": "829d4653",
   "metadata": {},
   "outputs": [],
   "source": [
    "wikipedia_agent = ToolCallingAgent(\n",
    "    model=InferenceClientModel(model_id=\"Qwen/Qwen3-30B-A3B\", bill_to=\"VitalNest\", temperature=.1),\n",
    "    tools=[WikipediaSearchTool(user_agent=\"WikiAssistant (merlin@example.com)\")],\n",
    "    max_steps=3,\n",
    "    verbosity_level=0,\n",
    "    name=\"wikipedia_agent\",\n",
    "    description=\"Searches Wikipedia for a topic.\",\n",
    ")"
   ]
  },
  {
   "cell_type": "code",
   "execution_count": 34,
   "id": "ce492b6d",
   "metadata": {},
   "outputs": [],
   "source": [
    "manager_agent = CodeAgent(\n",
    "    tools=[PythonInterpreterTool(), FinalAnswerTool()],\n",
    "    additional_authorized_imports=[\"os\", \"requests\", \"bs4\"],\n",
    "    model=InferenceClientModel(\n",
    "        model_id=\"Qwen/Qwen3-30B-A3B\", bill_to=\"VitalNest\", temperature=0.1\n",
    "    ),  # \"Qwen/Qwen3-235B-A22B\"\n",
    "    managed_agents=[websearch_agent, wikipedia_agent, insurance_agent],\n",
    "    max_steps=10,\n",
    "    planning_interval=3,\n",
    "    verbosity_level=0,\n",
    ")"
   ]
  },
  {
   "cell_type": "code",
   "execution_count": 35,
   "id": "c31461ef",
   "metadata": {},
   "outputs": [
    {
     "data": {
      "text/html": [
       "<pre style=\"white-space:pre;overflow-x:auto;line-height:normal;font-family:Menlo,'DejaVu Sans Mono',consolas,'Courier New',monospace\"><span style=\"color: #800000; text-decoration-color: #800000; font-weight: bold\">Code execution failed at line </span><span style=\"color: #008000; text-decoration-color: #008000\">'insurance_response = insurance_agent(task=\"What critical illnesses are covered under</span>\n",
       "<span style=\"color: #008000; text-decoration-color: #008000\">Optima Restore? Please analyze the provided PDF pages: \" + \", \".join(search_res))'</span><span style=\"color: #800000; text-decoration-color: #800000; font-weight: bold\"> due to: InterpreterError: The </span>\n",
       "<span style=\"color: #800000; text-decoration-color: #800000; font-weight: bold\">variable `search_res` is not defined.</span>\n",
       "</pre>\n"
      ],
      "text/plain": [
       "\u001b[1;31mCode execution failed at line \u001b[0m\u001b[32m'insurance_response = insurance_agent\u001b[0m\u001b[32m(\u001b[0m\u001b[32mtask\u001b[0m\u001b[32m=\u001b[0m\u001b[32m\"What\u001b[0m\u001b[32m critical illnesses are covered under\u001b[0m\n",
       "\u001b[32mOptima Restore? Please analyze the provided PDF pages: \" + \", \".join\u001b[0m\u001b[32m(\u001b[0m\u001b[32msearch_res\u001b[0m\u001b[32m)\u001b[0m\u001b[32m)\u001b[0m\u001b[32m'\u001b[0m\u001b[1;31m due to: InterpreterError: The \u001b[0m\n",
       "\u001b[1;31mvariable `search_res` is not defined.\u001b[0m\n"
      ]
     },
     "metadata": {},
     "output_type": "display_data"
    },
    {
     "data": {
      "text/html": [
       "<pre style=\"white-space:pre;overflow-x:auto;line-height:normal;font-family:Menlo,'DejaVu Sans Mono',consolas,'Courier New',monospace\"><span style=\"color: #800000; text-decoration-color: #800000; font-weight: bold\">Code execution failed at line </span><span style=\"color: #008000; text-decoration-color: #008000\">'search_results = web_search_agent(query=search_query)'</span><span style=\"color: #800000; text-decoration-color: #800000; font-weight: bold\"> due to: TypeError: </span>\n",
       "<span style=\"color: #800080; text-decoration-color: #800080; font-weight: bold\">MultiStepAgent.__call__</span><span style=\"color: #800000; text-decoration-color: #800000; font-weight: bold\">() missing </span><span style=\"color: #008080; text-decoration-color: #008080; font-weight: bold\">1</span><span style=\"color: #800000; text-decoration-color: #800000; font-weight: bold\"> required positional argument: </span><span style=\"color: #008000; text-decoration-color: #008000\">'task'</span>\n",
       "</pre>\n"
      ],
      "text/plain": [
       "\u001b[1;31mCode execution failed at line \u001b[0m\u001b[32m'search_results = web_search_agent\u001b[0m\u001b[32m(\u001b[0m\u001b[32mquery\u001b[0m\u001b[32m=\u001b[0m\u001b[32msearch_query\u001b[0m\u001b[32m)\u001b[0m\u001b[32m'\u001b[0m\u001b[1;31m due to: TypeError: \u001b[0m\n",
       "\u001b[1;35mMultiStepAgent.__call__\u001b[0m\u001b[1;31m(\u001b[0m\u001b[1;31m)\u001b[0m\u001b[1;31m missing \u001b[0m\u001b[1;36m1\u001b[0m\u001b[1;31m required positional argument: \u001b[0m\u001b[32m'task'\u001b[0m\n"
      ]
     },
     "metadata": {},
     "output_type": "display_data"
    },
    {
     "data": {
      "text/html": [
       "<pre style=\"white-space:pre;overflow-x:auto;line-height:normal;font-family:Menlo,'DejaVu Sans Mono',consolas,'Courier New',monospace\"><span style=\"color: #800000; text-decoration-color: #800000; font-weight: bold\">Code execution failed at line </span><span style=\"color: #008000; text-decoration-color: #008000\">'import pytesseract'</span><span style=\"color: #800000; text-decoration-color: #800000; font-weight: bold\"> due to: InterpreterError: Import of pytesseract is not allowed. </span>\n",
       "<span style=\"color: #800000; text-decoration-color: #800000; font-weight: bold\">Authorized imports are: [</span><span style=\"color: #008000; text-decoration-color: #008000\">'io'</span><span style=\"color: #800000; text-decoration-color: #800000; font-weight: bold\">, </span><span style=\"color: #008000; text-decoration-color: #008000\">'requests'</span><span style=\"color: #800000; text-decoration-color: #800000; font-weight: bold\">, </span><span style=\"color: #008000; text-decoration-color: #008000\">'queue'</span><span style=\"color: #800000; text-decoration-color: #800000; font-weight: bold\">, </span><span style=\"color: #008000; text-decoration-color: #008000\">'random'</span><span style=\"color: #800000; text-decoration-color: #800000; font-weight: bold\">, </span><span style=\"color: #008000; text-decoration-color: #008000\">'statistics'</span><span style=\"color: #800000; text-decoration-color: #800000; font-weight: bold\">, </span><span style=\"color: #008000; text-decoration-color: #008000\">'datetime'</span><span style=\"color: #800000; text-decoration-color: #800000; font-weight: bold\">, </span><span style=\"color: #008000; text-decoration-color: #008000\">'collections'</span><span style=\"color: #800000; text-decoration-color: #800000; font-weight: bold\">, </span><span style=\"color: #008000; text-decoration-color: #008000\">'math'</span><span style=\"color: #800000; text-decoration-color: #800000; font-weight: bold\">, </span>\n",
       "<span style=\"color: #008000; text-decoration-color: #008000\">'stat'</span><span style=\"color: #800000; text-decoration-color: #800000; font-weight: bold\">, </span><span style=\"color: #008000; text-decoration-color: #008000\">'unicodedata'</span><span style=\"color: #800000; text-decoration-color: #800000; font-weight: bold\">, </span><span style=\"color: #008000; text-decoration-color: #008000\">'os'</span><span style=\"color: #800000; text-decoration-color: #800000; font-weight: bold\">, </span><span style=\"color: #008000; text-decoration-color: #008000\">'bs4'</span><span style=\"color: #800000; text-decoration-color: #800000; font-weight: bold\">, </span><span style=\"color: #008000; text-decoration-color: #008000\">'re'</span><span style=\"color: #800000; text-decoration-color: #800000; font-weight: bold\">, </span><span style=\"color: #008000; text-decoration-color: #008000\">'base64'</span><span style=\"color: #800000; text-decoration-color: #800000; font-weight: bold\">, </span><span style=\"color: #008000; text-decoration-color: #008000\">'pil'</span><span style=\"color: #800000; text-decoration-color: #800000; font-weight: bold\">, </span><span style=\"color: #008000; text-decoration-color: #008000\">'time'</span><span style=\"color: #800000; text-decoration-color: #800000; font-weight: bold\">, </span><span style=\"color: #008000; text-decoration-color: #008000\">'itertools'</span><span style=\"color: #800000; text-decoration-color: #800000; font-weight: bold\">\\]</span>\n",
       "</pre>\n"
      ],
      "text/plain": [
       "\u001b[1;31mCode execution failed at line \u001b[0m\u001b[32m'import pytesseract'\u001b[0m\u001b[1;31m due to: InterpreterError: Import of pytesseract is not allowed. \u001b[0m\n",
       "\u001b[1;31mAuthorized imports are: \u001b[0m\u001b[1;31m[\u001b[0m\u001b[32m'io'\u001b[0m\u001b[1;31m, \u001b[0m\u001b[32m'requests'\u001b[0m\u001b[1;31m, \u001b[0m\u001b[32m'queue'\u001b[0m\u001b[1;31m, \u001b[0m\u001b[32m'random'\u001b[0m\u001b[1;31m, \u001b[0m\u001b[32m'statistics'\u001b[0m\u001b[1;31m, \u001b[0m\u001b[32m'datetime'\u001b[0m\u001b[1;31m, \u001b[0m\u001b[32m'collections'\u001b[0m\u001b[1;31m, \u001b[0m\u001b[32m'math'\u001b[0m\u001b[1;31m, \u001b[0m\n",
       "\u001b[32m'stat'\u001b[0m\u001b[1;31m, \u001b[0m\u001b[32m'unicodedata'\u001b[0m\u001b[1;31m, \u001b[0m\u001b[32m'os'\u001b[0m\u001b[1;31m, \u001b[0m\u001b[32m'bs4'\u001b[0m\u001b[1;31m, \u001b[0m\u001b[32m're'\u001b[0m\u001b[1;31m, \u001b[0m\u001b[32m'base64'\u001b[0m\u001b[1;31m, \u001b[0m\u001b[32m'pil'\u001b[0m\u001b[1;31m, \u001b[0m\u001b[32m'time'\u001b[0m\u001b[1;31m, \u001b[0m\u001b[32m'itertools'\u001b[0m\u001b[1;31m\\\u001b[0m\u001b[1;31m]\u001b[0m\n"
      ]
     },
     "metadata": {},
     "output_type": "display_data"
    },
    {
     "data": {
      "text/html": [
       "<pre style=\"white-space:pre;overflow-x:auto;line-height:normal;font-family:Menlo,'DejaVu Sans Mono',consolas,'Courier New',monospace\"><span style=\"color: #800000; text-decoration-color: #800000; font-weight: bold\">Error in code parsing:</span>\n",
       "<span style=\"color: #800000; text-decoration-color: #800000; font-weight: bold\">Your code snippet is invalid, because the regex pattern ```(?:py|python)?\\s*\\</span><span style=\"color: #800080; text-decoration-color: #800080; font-weight: bold\">n</span><span style=\"color: #800000; text-decoration-color: #800000; font-weight: bold\">(.*?)\\n``` was not found in it.</span>\n",
       "<span style=\"color: #800000; text-decoration-color: #800000; font-weight: bold\">                Here is your code snippet:</span>\n",
       "<span style=\"color: #800000; text-decoration-color: #800000; font-weight: bold\">                &lt;</span><span style=\"color: #ff00ff; text-decoration-color: #ff00ff; font-weight: bold\">think</span><span style=\"color: #000000; text-decoration-color: #000000; font-weight: bold\">&gt;</span>\n",
       "<span style=\"color: #000000; text-decoration-color: #000000; font-weight: bold\">Okay, let's see. The user asked about the critical illnesses covered under Optima Restore, and the insurance_agent </span>\n",
       "<span style=\"color: #000000; text-decoration-color: #000000; font-weight: bold\">provided a detailed list. The response from the insurance_agent includes a list of conditions like Cancer, Heart </span>\n",
       "<span style=\"color: #000000; text-decoration-color: #000000; font-weight: bold\">Attack, Stroke, Kidney Failure, etc. The user's search_res was the list of PDF pages, and after defining search_res</span>\n",
       "<span style=\"color: #000000; text-decoration-color: #000000; font-weight: bold\">properly, the insurance_agent analyzed them and returned the answer.</span>\n",
       "\n",
       "<span style=\"color: #000000; text-decoration-color: #000000; font-weight: bold\">Now, the next step is to present the final answer. The insurance_agent's response has the list, so I need to </span>\n",
       "<span style=\"color: #000000; text-decoration-color: #000000; font-weight: bold\">extract that and use the final_answer tool. The answer is the list of critical illnesses mentioned. I should check </span>\n",
       "<span style=\"color: #000000; text-decoration-color: #000000; font-weight: bold\">if the response is correctly formatted and then output it.</span>\n",
       "\n",
       "<span style=\"color: #000000; text-decoration-color: #000000; font-weight: bold\">Wait, the observation shows that the insurance_agent's response has a </span><span style=\"color: #008000; text-decoration-color: #008000\">'Task outcome (short version)'</span><span style=\"color: #000000; text-decoration-color: #000000; font-weight: bold\"> with the list.</span>\n",
       "<span style=\"color: #000000; text-decoration-color: #000000; font-weight: bold\">So, the code should take that and pass it to final_answer. But since the code is in the python_interpreter, I need </span>\n",
       "<span style=\"color: #000000; text-decoration-color: #000000; font-weight: bold\">to capture that output. However, in the previous step, the code printed the insurance_response, but the observation</span>\n",
       "<span style=\"color: #000000; text-decoration-color: #000000; font-weight: bold\">shows that the insurance_agent's answer is already provided. </span>\n",
       "\n",
       "<span style=\"color: #000000; text-decoration-color: #000000; font-weight: bold\">So, the final answer is the list of illnesses from the insurance_agent's response. The user's task is to answer the</span>\n",
       "<span style=\"color: #000000; text-decoration-color: #000000; font-weight: bold\">query, so the final answer should be the list of conditions. Therefore, the correct code is to call final_answer </span>\n",
       "<span style=\"color: #000000; text-decoration-color: #000000; font-weight: bold\">with the list from the insurance_response. But since the code is in the python_interpreter, I need to make sure </span>\n",
       "<span style=\"color: #000000; text-decoration-color: #000000; font-weight: bold\">that the code uses the insurance_response variable. However, in the previous step, the code printed the </span>\n",
       "<span style=\"color: #000000; text-decoration-color: #000000; font-weight: bold\">insurance_response, but the observation shows that the insurance_agent's answer is already there. </span>\n",
       "\n",
       "<span style=\"color: #000000; text-decoration-color: #000000; font-weight: bold\">Wait, the user's last code call was to the insurance_agent, and the observation includes the response. Now, the </span>\n",
       "<span style=\"color: #000000; text-decoration-color: #000000; font-weight: bold\">assistant needs to take that response and format the final answer. Since the insurance_agent's response includes </span>\n",
       "<span style=\"color: #000000; text-decoration-color: #000000; font-weight: bold\">the list, the final answer can be constructed from that. </span>\n",
       "\n",
       "<span style=\"color: #000000; text-decoration-color: #000000; font-weight: bold\">So, the code should be to call final_answer with the list of critical illnesses. The exact list is in the </span><span style=\"color: #008000; text-decoration-color: #008000\">'Task </span>\n",
       "<span style=\"color: #008000; text-decoration-color: #008000\">outcome (short version)'</span><span style=\"color: #000000; text-decoration-color: #000000; font-weight: bold\"> part. The answer should be a string listing those illnesses. </span>\n",
       "\n",
       "<span style=\"color: #000000; text-decoration-color: #000000; font-weight: bold\">Therefore, the final code would be to print the list or directly pass it to final_answer. But since the user's </span>\n",
       "<span style=\"color: #000000; text-decoration-color: #000000; font-weight: bold\">previous code printed the insurance_response, and the observation shows the answer, the next step is to use that </span>\n",
       "<span style=\"color: #000000; text-decoration-color: #000000; font-weight: bold\">data. </span>\n",
       "\n",
       "<span style=\"color: #000000; text-decoration-color: #000000; font-weight: bold\">So, the correct final answer is the list of conditions provided by the insurance_agent. The assistant should format</span>\n",
       "<span style=\"color: #000000; text-decoration-color: #000000; font-weight: bold\">that into a coherent answer.</span>\n",
       "<span style=\"color: #000000; text-decoration-color: #000000; font-weight: bold\">&lt;</span><span style=\"color: #800080; text-decoration-color: #800080; font-weight: bold\">/</span><span style=\"color: #ff00ff; text-decoration-color: #ff00ff; font-weight: bold\">think</span><span style=\"color: #000000; text-decoration-color: #000000; font-weight: bold\">&gt;</span>\n",
       "\n",
       "<span style=\"color: #000000; text-decoration-color: #000000; font-weight: bold\">The insurance_agent has analyzed the provided PDF pages and identified the critical illnesses covered under Optima </span>\n",
       "<span style=\"color: #000000; text-decoration-color: #000000; font-weight: bold\">Restore. The list includes conditions such as Cancer, Heart Attack, Stroke, Kidney Failure, and others. </span>\n",
       "\n",
       "<span style=\"color: #000000; text-decoration-color: #000000; font-weight: bold\">**Final Answer**</span>\n",
       "<span style=\"color: #000000; text-decoration-color: #000000; font-weight: bold\">The critical illnesses covered under Optima Restore include Alzheimer's Disease, Aorta Surgery, Aplastic Anemia, </span>\n",
       "<span style=\"color: #000000; text-decoration-color: #000000; font-weight: bold\">Cancer, Chronic Total Ischemia or acidosis, Diabetes with Complications, Heart Attack, Heart Valve Replacement </span>\n",
       "<span style=\"color: #000000; text-decoration-color: #000000; font-weight: bold\">Surgery, Kidney Failure (Renal Failure), Major Organ Transplant, Major complication and permanent disability </span>\n",
       "<span style=\"color: #000000; text-decoration-color: #000000; font-weight: bold\">following Coronary Artery Bypass Surgery, Multiple Sclerosis, Myocardial Infarction, Paralysis from CVA or Stroke, </span>\n",
       "<span style=\"color: #000000; text-decoration-color: #000000; font-weight: bold\">Paralysis from Traumatic Injury, Parkinson's Disease, Severe Active Rheumatoid Arthritis, Severe Dementia, Severe </span>\n",
       "<span style=\"color: #000000; text-decoration-color: #000000; font-weight: bold\">Lower Limb Transplant, Severe Sickle Cell Anemia, Stroke, Systemic Lupus Erythematosus Deforming, and others. For </span>\n",
       "<span style=\"color: #000000; text-decoration-color: #000000; font-weight: bold\">precise details, refer to the policy's Terms and Conditions.</span>\n",
       "\n",
       "\n",
       "<span style=\"color: #000000; text-decoration-color: #000000; font-weight: bold\">                It seems like you're trying to return the final answer, you can do it as follows:</span>\n",
       "<span style=\"color: #000000; text-decoration-color: #000000; font-weight: bold\">                Code:</span>\n",
       "<span style=\"color: #000000; text-decoration-color: #000000; font-weight: bold\">                ```py</span>\n",
       "<span style=\"color: #000000; text-decoration-color: #000000; font-weight: bold\">                </span><span style=\"color: #800080; text-decoration-color: #800080; font-weight: bold\">final_answer</span><span style=\"color: #000000; text-decoration-color: #000000; font-weight: bold\">(</span><span style=\"color: #008000; text-decoration-color: #008000\">\"YOUR FINAL ANSWER HERE\"</span><span style=\"color: #000000; text-decoration-color: #000000; font-weight: bold\">)</span>\n",
       "<span style=\"color: #000000; text-decoration-color: #000000; font-weight: bold\">                ```&lt;end_code</span><span style=\"color: #800000; text-decoration-color: #800000; font-weight: bold\">&gt;</span>\n",
       "<span style=\"color: #800000; text-decoration-color: #800000; font-weight: bold\">Make sure to provide correct code blobs.</span>\n",
       "</pre>\n"
      ],
      "text/plain": [
       "\u001b[1;31mError in code parsing:\u001b[0m\n",
       "\u001b[1;31mYour code snippet is invalid, because the regex pattern ```\u001b[0m\u001b[1;31m(\u001b[0m\u001b[1;31m?:py|python\u001b[0m\u001b[1;31m)\u001b[0m\u001b[1;31m?\\s*\\\u001b[0m\u001b[1;35mn\u001b[0m\u001b[1;31m(\u001b[0m\u001b[1;31m.*?\u001b[0m\u001b[1;31m)\u001b[0m\u001b[1;31m\\n``` was not found in it.\u001b[0m\n",
       "\u001b[1;31m                Here is your code snippet:\u001b[0m\n",
       "\u001b[1;31m                \u001b[0m\u001b[1;31m<\u001b[0m\u001b[1;95mthink\u001b[0m\u001b[1;39m>\u001b[0m\n",
       "\u001b[1;39mOkay, let's see. The user asked about the critical illnesses covered under Optima Restore, and the insurance_agent \u001b[0m\n",
       "\u001b[1;39mprovided a detailed list. The response from the insurance_agent includes a list of conditions like Cancer, Heart \u001b[0m\n",
       "\u001b[1;39mAttack, Stroke, Kidney Failure, etc. The user's search_res was the list of PDF pages, and after defining search_res\u001b[0m\n",
       "\u001b[1;39mproperly, the insurance_agent analyzed them and returned the answer.\u001b[0m\n",
       "\n",
       "\u001b[1;39mNow, the next step is to present the final answer. The insurance_agent's response has the list, so I need to \u001b[0m\n",
       "\u001b[1;39mextract that and use the final_answer tool. The answer is the list of critical illnesses mentioned. I should check \u001b[0m\n",
       "\u001b[1;39mif the response is correctly formatted and then output it.\u001b[0m\n",
       "\n",
       "\u001b[1;39mWait, the observation shows that the insurance_agent's response has a \u001b[0m\u001b[32m'Task outcome \u001b[0m\u001b[32m(\u001b[0m\u001b[32mshort version\u001b[0m\u001b[32m)\u001b[0m\u001b[32m'\u001b[0m\u001b[1;39m with the list.\u001b[0m\n",
       "\u001b[1;39mSo, the code should take that and pass it to final_answer. But since the code is in the python_interpreter, I need \u001b[0m\n",
       "\u001b[1;39mto capture that output. However, in the previous step, the code printed the insurance_response, but the observation\u001b[0m\n",
       "\u001b[1;39mshows that the insurance_agent's answer is already provided. \u001b[0m\n",
       "\n",
       "\u001b[1;39mSo, the final answer is the list of illnesses from the insurance_agent's response. The user's task is to answer the\u001b[0m\n",
       "\u001b[1;39mquery, so the final answer should be the list of conditions. Therefore, the correct code is to call final_answer \u001b[0m\n",
       "\u001b[1;39mwith the list from the insurance_response. But since the code is in the python_interpreter, I need to make sure \u001b[0m\n",
       "\u001b[1;39mthat the code uses the insurance_response variable. However, in the previous step, the code printed the \u001b[0m\n",
       "\u001b[1;39minsurance_response, but the observation shows that the insurance_agent's answer is already there. \u001b[0m\n",
       "\n",
       "\u001b[1;39mWait, the user's last code call was to the insurance_agent, and the observation includes the response. Now, the \u001b[0m\n",
       "\u001b[1;39massistant needs to take that response and format the final answer. Since the insurance_agent's response includes \u001b[0m\n",
       "\u001b[1;39mthe list, the final answer can be constructed from that. \u001b[0m\n",
       "\n",
       "\u001b[1;39mSo, the code should be to call final_answer with the list of critical illnesses. The exact list is in the \u001b[0m\u001b[32m'Task \u001b[0m\n",
       "\u001b[32moutcome \u001b[0m\u001b[32m(\u001b[0m\u001b[32mshort version\u001b[0m\u001b[32m)\u001b[0m\u001b[32m'\u001b[0m\u001b[1;39m part. The answer should be a string listing those illnesses. \u001b[0m\n",
       "\n",
       "\u001b[1;39mTherefore, the final code would be to print the list or directly pass it to final_answer. But since the user's \u001b[0m\n",
       "\u001b[1;39mprevious code printed the insurance_response, and the observation shows the answer, the next step is to use that \u001b[0m\n",
       "\u001b[1;39mdata. \u001b[0m\n",
       "\n",
       "\u001b[1;39mSo, the correct final answer is the list of conditions provided by the insurance_agent. The assistant should format\u001b[0m\n",
       "\u001b[1;39mthat into a coherent answer.\u001b[0m\n",
       "\u001b[1;39m<\u001b[0m\u001b[1;35m/\u001b[0m\u001b[1;95mthink\u001b[0m\u001b[1;39m>\u001b[0m\n",
       "\n",
       "\u001b[1;39mThe insurance_agent has analyzed the provided PDF pages and identified the critical illnesses covered under Optima \u001b[0m\n",
       "\u001b[1;39mRestore. The list includes conditions such as Cancer, Heart Attack, Stroke, Kidney Failure, and others. \u001b[0m\n",
       "\n",
       "\u001b[1;39m**Final Answer**\u001b[0m\n",
       "\u001b[1;39mThe critical illnesses covered under Optima Restore include Alzheimer's Disease, Aorta Surgery, Aplastic Anemia, \u001b[0m\n",
       "\u001b[1;39mCancer, Chronic Total Ischemia or acidosis, Diabetes with Complications, Heart Attack, Heart Valve Replacement \u001b[0m\n",
       "\u001b[1;39mSurgery, Kidney Failure \u001b[0m\u001b[1;39m(\u001b[0m\u001b[1;39mRenal Failure\u001b[0m\u001b[1;39m)\u001b[0m\u001b[1;39m, Major Organ Transplant, Major complication and permanent disability \u001b[0m\n",
       "\u001b[1;39mfollowing Coronary Artery Bypass Surgery, Multiple Sclerosis, Myocardial Infarction, Paralysis from CVA or Stroke, \u001b[0m\n",
       "\u001b[1;39mParalysis from Traumatic Injury, Parkinson's Disease, Severe Active Rheumatoid Arthritis, Severe Dementia, Severe \u001b[0m\n",
       "\u001b[1;39mLower Limb Transplant, Severe Sickle Cell Anemia, Stroke, Systemic Lupus Erythematosus Deforming, and others. For \u001b[0m\n",
       "\u001b[1;39mprecise details, refer to the policy's Terms and Conditions.\u001b[0m\n",
       "\n",
       "\n",
       "\u001b[1;39m                It seems like you're trying to return the final answer, you can do it as follows:\u001b[0m\n",
       "\u001b[1;39m                Code:\u001b[0m\n",
       "\u001b[1;39m                ```py\u001b[0m\n",
       "\u001b[1;39m                \u001b[0m\u001b[1;35mfinal_answer\u001b[0m\u001b[1;39m(\u001b[0m\u001b[32m\"YOUR FINAL ANSWER HERE\"\u001b[0m\u001b[1;39m)\u001b[0m\n",
       "\u001b[1;39m                ```<end_code\u001b[0m\u001b[1;31m>\u001b[0m\n",
       "\u001b[1;31mMake sure to provide correct code blobs.\u001b[0m\n"
      ]
     },
     "metadata": {},
     "output_type": "display_data"
    },
    {
     "data": {
      "text/plain": [
       "\"Alzheimer's Disease, Aorta Surgery, Aplastic Anemia, Cancer, Chronic Total Ischemia or acidosis, Diabetes with Complications, Heart Attack, Heart Valve Replacement Surgery, Kidney Failure (Renal Failure), Major Organ Transplant, Major complication and permanent disability following Coronary Artery Bypass Surgery, Multiple Sclerosis, Myocardial Infarction, Paralysis from CVA or Stroke, Paralysis from Traumatic Injury, Parkinson's Disease, Severe Active Rheumatoid Arthritis, Severe Dementia, Severe Lower Limb Transplant, Severe Sickle Cell Anemia, Stroke, Systemic Lupus Erythematosus Deforming, and others.\""
      ]
     },
     "execution_count": 35,
     "metadata": {},
     "output_type": "execute_result"
    }
   ],
   "source": [
    "manager_agent.run(\n",
    "    task=f\"\"\"\n",
    "For the insurance search results below, answer the following query:{query}.\n",
    "search_res: {search_res}\n",
    "\"\"\"\n",
    "    #     \"\"\"Search for `topic`:multi head latent attention in wikipedia.\n",
    "    #                   If there's no information about the same in Wikipedia, search the web\n",
    "    #                   for it and return a summary of the findings along with the search result links.\n",
    "    # \"\"\"\n",
    ")"
   ]
  },
  {
   "cell_type": "code",
   "execution_count": null,
   "id": "0116b0c2",
   "metadata": {},
   "outputs": [],
   "source": []
  },
  {
   "cell_type": "code",
   "execution_count": null,
   "id": "f5891393",
   "metadata": {},
   "outputs": [],
   "source": []
  },
  {
   "cell_type": "code",
   "execution_count": 1,
   "id": "4c6f5c4c",
   "metadata": {},
   "outputs": [],
   "source": [
    "import torch\n",
    "from PIL import Image\n",
    "from transformers.utils.import_utils import is_flash_attn_2_available\n",
    "\n",
    "from colpali_engine.models import ColQwen2_5, ColQwen2_5_Processor\n"
   ]
  },
  {
   "cell_type": "code",
   "execution_count": null,
   "id": "8ae2026e",
   "metadata": {},
   "outputs": [
    {
     "data": {
      "application/vnd.jupyter.widget-view+json": {
       "model_id": "8ba3965a0962432ea889e6de249c5bda",
       "version_major": 2,
       "version_minor": 0
      },
      "text/plain": [
       "Fetching 2 files:   0%|          | 0/2 [00:00<?, ?it/s]"
      ]
     },
     "metadata": {},
     "output_type": "display_data"
    },
    {
     "data": {
      "application/vnd.jupyter.widget-view+json": {
       "model_id": "8f3e897980b84d238b5cedc58586704f",
       "version_major": 2,
       "version_minor": 0
      },
      "text/plain": [
       "Loading checkpoint shards:   0%|          | 0/2 [00:00<?, ?it/s]"
      ]
     },
     "metadata": {},
     "output_type": "display_data"
    }
   ],
   "source": [
    "\n",
    "model = ColQwen2_5.from_pretrained(\n",
    "    pretrained_model_name_or_path=\"vidore/colqwen2.5-v0.2\",\n",
    "    torch_dtype=torch.bfloat16,\n",
    "    device_map=\"cuda:0\",  # or \"mps\" if on Apple Silicon\n",
    "    attn_implementation=\"flash_attention_2\" if is_flash_attn_2_available() else None,\n",
    ").eval()\n",
    "processor = ColQwen2_5_Processor.from_pretrained(\"vidore/colqwen2.5-v0.2\", use_fast=True)\n"
   ]
  },
  {
   "cell_type": "code",
   "execution_count": 3,
   "id": "fc98854d",
   "metadata": {},
   "outputs": [],
   "source": [
    "\n",
    "# Your inputs\n",
    "images = [\n",
    "    Image.new(\"RGB\", (128, 128), color=\"white\"),\n",
    "    Image.new(\"RGB\", (128, 128), color=\"black\"),\n",
    "]\n",
    "queries = [\n",
    "    \"Is attention really all you need?\",\n",
    "    \"What is the amount of bananas farmed in Salvador?\",\n",
    "]\n",
    "\n",
    "# Process the inputs\n",
    "batch_images = processor.process_images(images).to(model.device)\n",
    "batch_queries = processor.process_queries(queries).to(model.device)\n",
    "\n",
    "# Forward pass\n",
    "with torch.no_grad():\n",
    "    image_embeddings = model(**batch_images)\n",
    "    query_embeddings = model(**batch_queries)\n",
    "\n",
    "scores = processor.score_multi_vector(query_embeddings, image_embeddings)\n"
   ]
  },
  {
   "cell_type": "code",
   "execution_count": null,
   "id": "c4d1ac9c",
   "metadata": {},
   "outputs": [],
   "source": []
  }
 ],
 "metadata": {
  "kernelspec": {
   "display_name": ".venv",
   "language": "python",
   "name": "python3"
  },
  "language_info": {
   "codemirror_mode": {
    "name": "ipython",
    "version": 3
   },
   "file_extension": ".py",
   "mimetype": "text/x-python",
   "name": "python",
   "nbconvert_exporter": "python",
   "pygments_lexer": "ipython3",
   "version": "3.12.10"
  }
 },
 "nbformat": 4,
 "nbformat_minor": 5
}
